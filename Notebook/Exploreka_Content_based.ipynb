{
  "nbformat": 4,
  "nbformat_minor": 0,
  "metadata": {
    "colab": {
      "provenance": []
    },
    "kernelspec": {
      "name": "python3",
      "display_name": "Python 3"
    },
    "language_info": {
      "name": "python"
    }
  },
  "cells": [
    {
      "cell_type": "code",
      "execution_count": 1,
      "metadata": {
        "id": "sFI9VdgpMDbj",
        "colab": {
          "base_uri": "https://localhost:8080/"
        },
        "outputId": "b09b7156-58ed-4a2a-c617-df72b22d8772"
      },
      "outputs": [
        {
          "output_type": "stream",
          "name": "stdout",
          "text": [
            "Collecting Sastrawi\n",
            "  Downloading Sastrawi-1.0.1-py2.py3-none-any.whl (209 kB)\n",
            "\u001b[?25l     \u001b[90m━━━━━━━━━━━━━━━━━━━━━━━━━━━━━━━━━━━━━━━━\u001b[0m \u001b[32m0.0/209.7 kB\u001b[0m \u001b[31m?\u001b[0m eta \u001b[36m-:--:--\u001b[0m\r\u001b[2K     \u001b[91m━━━━━━━━━━━━━━━━━\u001b[0m\u001b[91m╸\u001b[0m\u001b[90m━━━━━━━━━━━━━━━━━━━━━━\u001b[0m \u001b[32m92.2/209.7 kB\u001b[0m \u001b[31m2.6 MB/s\u001b[0m eta \u001b[36m0:00:01\u001b[0m\r\u001b[2K     \u001b[90m━━━━━━━━━━━━━━━━━━━━━━━━━━━━━━━━━━━━━━━\u001b[0m \u001b[32m209.7/209.7 kB\u001b[0m \u001b[31m4.1 MB/s\u001b[0m eta \u001b[36m0:00:00\u001b[0m\n",
            "\u001b[?25hInstalling collected packages: Sastrawi\n",
            "Successfully installed Sastrawi-1.0.1\n"
          ]
        }
      ],
      "source": [
        "!pip install Sastrawi"
      ]
    },
    {
      "cell_type": "code",
      "source": [
        "!pip install h5py"
      ],
      "metadata": {
        "colab": {
          "base_uri": "https://localhost:8080/"
        },
        "id": "KX0Gqph27WCl",
        "outputId": "e99dda3a-a7b2-4f51-dc45-5fc94a642bae"
      },
      "execution_count": 2,
      "outputs": [
        {
          "output_type": "stream",
          "name": "stdout",
          "text": [
            "Requirement already satisfied: h5py in /usr/local/lib/python3.10/dist-packages (3.9.0)\n",
            "Requirement already satisfied: numpy>=1.17.3 in /usr/local/lib/python3.10/dist-packages (from h5py) (1.23.5)\n"
          ]
        }
      ]
    },
    {
      "cell_type": "code",
      "source": [
        "import pandas as pd\n",
        "import numpy as np\n",
        "import matplotlib.pyplot as plt\n",
        "import seaborn as sns\n",
        "import plotly.express as px\n",
        "import pickle\n",
        "\n",
        "from sklearn.feature_extraction.text import TfidfVectorizer\n",
        "from Sastrawi.Stemmer.StemmerFactory import StemmerFactory\n",
        "from Sastrawi.StopWordRemover.StopWordRemoverFactory import StopWordRemoverFactory\n",
        "from sklearn.metrics.pairwise import cosine_similarity\n",
        "\n",
        "from zipfile import ZipFile\n",
        "import tensorflow as tf\n",
        "from tensorflow import keras\n",
        "from tensorflow.keras import layers\n",
        "from pathlib import Path\n",
        "from nltk.tokenize import RegexpTokenizer\n",
        "import re\n",
        "\n",
        "tfidf = TfidfVectorizer(max_features=5000)\n",
        "stem = StemmerFactory().create_stemmer()\n",
        "stopword = StopWordRemoverFactory().create_stop_word_remover()"
      ],
      "metadata": {
        "id": "JaTs7xI1x11I"
      },
      "execution_count": 25,
      "outputs": []
    },
    {
      "cell_type": "code",
      "source": [
        "tourism_with_id = pd.read_csv('tourism_with_id.csv')\n",
        "print(tourism_with_id.info())"
      ],
      "metadata": {
        "colab": {
          "base_uri": "https://localhost:8080/"
        },
        "id": "o9L3BF8wRo1e",
        "outputId": "c025b0e5-d712-4814-e3ee-70dd1ccc2c17"
      },
      "execution_count": 34,
      "outputs": [
        {
          "output_type": "stream",
          "name": "stdout",
          "text": [
            "<class 'pandas.core.frame.DataFrame'>\n",
            "RangeIndex: 437 entries, 0 to 436\n",
            "Data columns (total 9 columns):\n",
            " #   Column                 Non-Null Count  Dtype  \n",
            "---  ------                 --------------  -----  \n",
            " 0   id_attraction          437 non-null    int64  \n",
            " 1   name_attraction        437 non-null    object \n",
            " 2   price_attraction       437 non-null    int64  \n",
            " 3   rating_avg_attraction  437 non-null    float64\n",
            " 4   id_city                437 non-null    int64  \n",
            " 5   id_attraction_cat      437 non-null    int64  \n",
            " 6   name_attraction_cat    437 non-null    object \n",
            " 7   name_city              437 non-null    object \n",
            " 8   desc_attraction        437 non-null    object \n",
            "dtypes: float64(1), int64(4), object(4)\n",
            "memory usage: 30.9+ KB\n",
            "None\n"
          ]
        }
      ]
    },
    {
      "cell_type": "code",
      "source": [
        "def detect_outlier(data):\n",
        "    outliers = []\n",
        "    threeshold = 3\n",
        "    mean = np.mean(data)\n",
        "    std = np.std(data)\n",
        "\n",
        "    for y in data:\n",
        "        z_score = (y - mean)/std\n",
        "        if np.abs(z_score) > threeshold:\n",
        "            outliers.append(y)\n",
        "    return outliers"
      ],
      "metadata": {
        "id": "lsyEGT-QA3ps"
      },
      "execution_count": 35,
      "outputs": []
    },
    {
      "cell_type": "code",
      "source": [
        "tourism_with_id.isna().sum()\n",
        "tourism_with_id = tourism_with_id.fillna(0)\n",
        "print(tourism_with_id.isna().sum())\n",
        "id_attraction = detect_outlier(tourism_with_id[\"id_attraction\"])\n",
        "print(id_attraction)\n",
        "price_attraction = detect_outlier(tourism_with_id[\"price_attraction\"])\n",
        "print(price_attraction)\n",
        "rating_avg_attraction = detect_outlier(tourism_with_id[\"rating_avg_attraction\"])\n",
        "print(rating_avg_attraction)\n",
        "id_city = detect_outlier(tourism_with_id[\"id_city\"])\n",
        "print(id_city)\n",
        "id_attraction_cat = detect_outlier(tourism_with_id[\"id_attraction_cat\"])\n",
        "print(id_attraction_cat)"
      ],
      "metadata": {
        "colab": {
          "base_uri": "https://localhost:8080/"
        },
        "id": "0jiVnbwzAVBO",
        "outputId": "1d5cc690-9e7a-4a61-fff1-6aa4f3db45ba"
      },
      "execution_count": 45,
      "outputs": [
        {
          "output_type": "stream",
          "name": "stdout",
          "text": [
            "id_attraction            0\n",
            "name_attraction          0\n",
            "price_attraction         0\n",
            "rating_avg_attraction    0\n",
            "id_city                  0\n",
            "id_attraction_cat        0\n",
            "name_attraction_cat      0\n",
            "name_city                0\n",
            "desc_attraction          0\n",
            "dtype: int64\n",
            "[]\n",
            "[270000, 900000, 300000, 250000, 500000, 280000, 375000]\n",
            "[3.8, 3.8, 3.4]\n",
            "[]\n",
            "[]\n"
          ]
        }
      ]
    },
    {
      "cell_type": "code",
      "source": [
        "def preprocessing(data):\n",
        "    data = data.lower()\n",
        "    data = stem.stem(data)\n",
        "    data = stopword.remove(data)\n",
        "    html_pattern = re.compile('<.*?>')\n",
        "    data = html_pattern.sub(r'', data)\n",
        "    tokenizer = RegexpTokenizer(r'\\w+')\n",
        "    data_token = tokenizer.tokenize(data)\n",
        "    data = \" \".join(data_token)\n",
        "    return data"
      ],
      "metadata": {
        "id": "Cf91_jjMFzNs"
      },
      "execution_count": 42,
      "outputs": []
    },
    {
      "cell_type": "code",
      "source": [
        "data_filtering = tourism_with_id.copy()\n",
        "data_filtering['Content'] = data_filtering['desc_attraction'] + ' ' + data_filtering['name_attraction_cat']\n",
        "data_filtering = data_filtering[\n",
        "    [\"id_attraction\",\"name_attraction\",\"Content\",\"name_attraction_cat\"]\n",
        "]\n",
        "data_filtering"
      ],
      "metadata": {
        "colab": {
          "base_uri": "https://localhost:8080/",
          "height": 597
        },
        "id": "XWmiMTtX0K_n",
        "outputId": "d78a2838-4dc9-4951-f33e-d8c07b1978cf"
      },
      "execution_count": 46,
      "outputs": [
        {
          "output_type": "execute_result",
          "data": {
            "text/plain": [
              "     id_attraction                   name_attraction  \\\n",
              "0                6           Taman Impian Jaya Ancol   \n",
              "1               47                Taman Situ Lembang   \n",
              "2               66              Museum Layang-layang   \n",
              "3                1                  Monumen Nasional   \n",
              "4                2                          Kota Tua   \n",
              "..             ...                               ...   \n",
              "432            432                       Taman Mundu   \n",
              "433            433               Museum Mpu Tantular   \n",
              "434            434                     Taman Bungkul   \n",
              "435            435  Taman Air Mancur Menari Kenjeran   \n",
              "436            436      Taman Flora Bratang Surabaya   \n",
              "\n",
              "                                               Content name_attraction_cat  \n",
              "0    Taman Impian Jaya Ancol merupakan sebuah objek...       Taman Hiburan  \n",
              "1    Taman Situ Lembang adalah sebuah taman kota ya...       Taman Hiburan  \n",
              "2    Museum Layang-Layang adalah sebuah museum yang...              Budaya  \n",
              "3    Monumen Nasional atau yang populer disingkat d...              Budaya  \n",
              "4    Kota tua di Jakarta, yang juga bernama Kota Tu...              Budaya  \n",
              "..                                                 ...                 ...  \n",
              "432  Taman Mundu merupakan salah satu taman atau ru...       Taman Hiburan  \n",
              "433  Museum Negeri Mpu Tantular adalah sebuah museu...              Budaya  \n",
              "434  Taman Bungkul adalah taman wisata kota yang te...       Taman Hiburan  \n",
              "435  Air mancur menari atau dancing fountain juga a...       Taman Hiburan  \n",
              "436  Taman Flora adalah salah satu taman kota di Su...       Taman Hiburan  \n",
              "\n",
              "[437 rows x 4 columns]"
            ],
            "text/html": [
              "\n",
              "  <div id=\"df-b4bf0b50-b864-4d60-a3d9-572903916ee0\" class=\"colab-df-container\">\n",
              "    <div>\n",
              "<style scoped>\n",
              "    .dataframe tbody tr th:only-of-type {\n",
              "        vertical-align: middle;\n",
              "    }\n",
              "\n",
              "    .dataframe tbody tr th {\n",
              "        vertical-align: top;\n",
              "    }\n",
              "\n",
              "    .dataframe thead th {\n",
              "        text-align: right;\n",
              "    }\n",
              "</style>\n",
              "<table border=\"1\" class=\"dataframe\">\n",
              "  <thead>\n",
              "    <tr style=\"text-align: right;\">\n",
              "      <th></th>\n",
              "      <th>id_attraction</th>\n",
              "      <th>name_attraction</th>\n",
              "      <th>Content</th>\n",
              "      <th>name_attraction_cat</th>\n",
              "    </tr>\n",
              "  </thead>\n",
              "  <tbody>\n",
              "    <tr>\n",
              "      <th>0</th>\n",
              "      <td>6</td>\n",
              "      <td>Taman Impian Jaya Ancol</td>\n",
              "      <td>Taman Impian Jaya Ancol merupakan sebuah objek...</td>\n",
              "      <td>Taman Hiburan</td>\n",
              "    </tr>\n",
              "    <tr>\n",
              "      <th>1</th>\n",
              "      <td>47</td>\n",
              "      <td>Taman Situ Lembang</td>\n",
              "      <td>Taman Situ Lembang adalah sebuah taman kota ya...</td>\n",
              "      <td>Taman Hiburan</td>\n",
              "    </tr>\n",
              "    <tr>\n",
              "      <th>2</th>\n",
              "      <td>66</td>\n",
              "      <td>Museum Layang-layang</td>\n",
              "      <td>Museum Layang-Layang adalah sebuah museum yang...</td>\n",
              "      <td>Budaya</td>\n",
              "    </tr>\n",
              "    <tr>\n",
              "      <th>3</th>\n",
              "      <td>1</td>\n",
              "      <td>Monumen Nasional</td>\n",
              "      <td>Monumen Nasional atau yang populer disingkat d...</td>\n",
              "      <td>Budaya</td>\n",
              "    </tr>\n",
              "    <tr>\n",
              "      <th>4</th>\n",
              "      <td>2</td>\n",
              "      <td>Kota Tua</td>\n",
              "      <td>Kota tua di Jakarta, yang juga bernama Kota Tu...</td>\n",
              "      <td>Budaya</td>\n",
              "    </tr>\n",
              "    <tr>\n",
              "      <th>...</th>\n",
              "      <td>...</td>\n",
              "      <td>...</td>\n",
              "      <td>...</td>\n",
              "      <td>...</td>\n",
              "    </tr>\n",
              "    <tr>\n",
              "      <th>432</th>\n",
              "      <td>432</td>\n",
              "      <td>Taman Mundu</td>\n",
              "      <td>Taman Mundu merupakan salah satu taman atau ru...</td>\n",
              "      <td>Taman Hiburan</td>\n",
              "    </tr>\n",
              "    <tr>\n",
              "      <th>433</th>\n",
              "      <td>433</td>\n",
              "      <td>Museum Mpu Tantular</td>\n",
              "      <td>Museum Negeri Mpu Tantular adalah sebuah museu...</td>\n",
              "      <td>Budaya</td>\n",
              "    </tr>\n",
              "    <tr>\n",
              "      <th>434</th>\n",
              "      <td>434</td>\n",
              "      <td>Taman Bungkul</td>\n",
              "      <td>Taman Bungkul adalah taman wisata kota yang te...</td>\n",
              "      <td>Taman Hiburan</td>\n",
              "    </tr>\n",
              "    <tr>\n",
              "      <th>435</th>\n",
              "      <td>435</td>\n",
              "      <td>Taman Air Mancur Menari Kenjeran</td>\n",
              "      <td>Air mancur menari atau dancing fountain juga a...</td>\n",
              "      <td>Taman Hiburan</td>\n",
              "    </tr>\n",
              "    <tr>\n",
              "      <th>436</th>\n",
              "      <td>436</td>\n",
              "      <td>Taman Flora Bratang Surabaya</td>\n",
              "      <td>Taman Flora adalah salah satu taman kota di Su...</td>\n",
              "      <td>Taman Hiburan</td>\n",
              "    </tr>\n",
              "  </tbody>\n",
              "</table>\n",
              "<p>437 rows × 4 columns</p>\n",
              "</div>\n",
              "    <div class=\"colab-df-buttons\">\n",
              "\n",
              "  <div class=\"colab-df-container\">\n",
              "    <button class=\"colab-df-convert\" onclick=\"convertToInteractive('df-b4bf0b50-b864-4d60-a3d9-572903916ee0')\"\n",
              "            title=\"Convert this dataframe to an interactive table.\"\n",
              "            style=\"display:none;\">\n",
              "\n",
              "  <svg xmlns=\"http://www.w3.org/2000/svg\" height=\"24px\" viewBox=\"0 -960 960 960\">\n",
              "    <path d=\"M120-120v-720h720v720H120Zm60-500h600v-160H180v160Zm220 220h160v-160H400v160Zm0 220h160v-160H400v160ZM180-400h160v-160H180v160Zm440 0h160v-160H620v160ZM180-180h160v-160H180v160Zm440 0h160v-160H620v160Z\"/>\n",
              "  </svg>\n",
              "    </button>\n",
              "\n",
              "  <style>\n",
              "    .colab-df-container {\n",
              "      display:flex;\n",
              "      gap: 12px;\n",
              "    }\n",
              "\n",
              "    .colab-df-convert {\n",
              "      background-color: #E8F0FE;\n",
              "      border: none;\n",
              "      border-radius: 50%;\n",
              "      cursor: pointer;\n",
              "      display: none;\n",
              "      fill: #1967D2;\n",
              "      height: 32px;\n",
              "      padding: 0 0 0 0;\n",
              "      width: 32px;\n",
              "    }\n",
              "\n",
              "    .colab-df-convert:hover {\n",
              "      background-color: #E2EBFA;\n",
              "      box-shadow: 0px 1px 2px rgba(60, 64, 67, 0.3), 0px 1px 3px 1px rgba(60, 64, 67, 0.15);\n",
              "      fill: #174EA6;\n",
              "    }\n",
              "\n",
              "    .colab-df-buttons div {\n",
              "      margin-bottom: 4px;\n",
              "    }\n",
              "\n",
              "    [theme=dark] .colab-df-convert {\n",
              "      background-color: #3B4455;\n",
              "      fill: #D2E3FC;\n",
              "    }\n",
              "\n",
              "    [theme=dark] .colab-df-convert:hover {\n",
              "      background-color: #434B5C;\n",
              "      box-shadow: 0px 1px 3px 1px rgba(0, 0, 0, 0.15);\n",
              "      filter: drop-shadow(0px 1px 2px rgba(0, 0, 0, 0.3));\n",
              "      fill: #FFFFFF;\n",
              "    }\n",
              "  </style>\n",
              "\n",
              "    <script>\n",
              "      const buttonEl =\n",
              "        document.querySelector('#df-b4bf0b50-b864-4d60-a3d9-572903916ee0 button.colab-df-convert');\n",
              "      buttonEl.style.display =\n",
              "        google.colab.kernel.accessAllowed ? 'block' : 'none';\n",
              "\n",
              "      async function convertToInteractive(key) {\n",
              "        const element = document.querySelector('#df-b4bf0b50-b864-4d60-a3d9-572903916ee0');\n",
              "        const dataTable =\n",
              "          await google.colab.kernel.invokeFunction('convertToInteractive',\n",
              "                                                    [key], {});\n",
              "        if (!dataTable) return;\n",
              "\n",
              "        const docLinkHtml = 'Like what you see? Visit the ' +\n",
              "          '<a target=\"_blank\" href=https://colab.research.google.com/notebooks/data_table.ipynb>data table notebook</a>'\n",
              "          + ' to learn more about interactive tables.';\n",
              "        element.innerHTML = '';\n",
              "        dataTable['output_type'] = 'display_data';\n",
              "        await google.colab.output.renderOutput(dataTable, element);\n",
              "        const docLink = document.createElement('div');\n",
              "        docLink.innerHTML = docLinkHtml;\n",
              "        element.appendChild(docLink);\n",
              "      }\n",
              "    </script>\n",
              "  </div>\n",
              "\n",
              "\n",
              "<div id=\"df-9204761f-ce5e-4135-879e-b89dfbb11d3e\">\n",
              "  <button class=\"colab-df-quickchart\" onclick=\"quickchart('df-9204761f-ce5e-4135-879e-b89dfbb11d3e')\"\n",
              "            title=\"Suggest charts.\"\n",
              "            style=\"display:none;\">\n",
              "\n",
              "<svg xmlns=\"http://www.w3.org/2000/svg\" height=\"24px\"viewBox=\"0 0 24 24\"\n",
              "     width=\"24px\">\n",
              "    <g>\n",
              "        <path d=\"M19 3H5c-1.1 0-2 .9-2 2v14c0 1.1.9 2 2 2h14c1.1 0 2-.9 2-2V5c0-1.1-.9-2-2-2zM9 17H7v-7h2v7zm4 0h-2V7h2v10zm4 0h-2v-4h2v4z\"/>\n",
              "    </g>\n",
              "</svg>\n",
              "  </button>\n",
              "\n",
              "<style>\n",
              "  .colab-df-quickchart {\n",
              "    background-color: #E8F0FE;\n",
              "    border: none;\n",
              "    border-radius: 50%;\n",
              "    cursor: pointer;\n",
              "    display: none;\n",
              "    fill: #1967D2;\n",
              "    height: 32px;\n",
              "    padding: 0 0 0 0;\n",
              "    width: 32px;\n",
              "  }\n",
              "\n",
              "  .colab-df-quickchart:hover {\n",
              "    background-color: #E2EBFA;\n",
              "    box-shadow: 0px 1px 2px rgba(60, 64, 67, 0.3), 0px 1px 3px 1px rgba(60, 64, 67, 0.15);\n",
              "    fill: #174EA6;\n",
              "  }\n",
              "\n",
              "  [theme=dark] .colab-df-quickchart {\n",
              "    background-color: #3B4455;\n",
              "    fill: #D2E3FC;\n",
              "  }\n",
              "\n",
              "  [theme=dark] .colab-df-quickchart:hover {\n",
              "    background-color: #434B5C;\n",
              "    box-shadow: 0px 1px 3px 1px rgba(0, 0, 0, 0.15);\n",
              "    filter: drop-shadow(0px 1px 2px rgba(0, 0, 0, 0.3));\n",
              "    fill: #FFFFFF;\n",
              "  }\n",
              "</style>\n",
              "\n",
              "  <script>\n",
              "    async function quickchart(key) {\n",
              "      const charts = await google.colab.kernel.invokeFunction(\n",
              "          'suggestCharts', [key], {});\n",
              "    }\n",
              "    (() => {\n",
              "      let quickchartButtonEl =\n",
              "        document.querySelector('#df-9204761f-ce5e-4135-879e-b89dfbb11d3e button');\n",
              "      quickchartButtonEl.style.display =\n",
              "        google.colab.kernel.accessAllowed ? 'block' : 'none';\n",
              "    })();\n",
              "  </script>\n",
              "</div>\n",
              "    </div>\n",
              "  </div>\n"
            ]
          },
          "metadata": {},
          "execution_count": 46
        }
      ]
    },
    {
      "cell_type": "code",
      "source": [
        "# with open('tokenizer.pkl', 'wb') as file:\n",
        "#       pickle.dump(tokenizer, file)\n",
        "    # with open('tokenizer.pkl', 'rb') as file:\n",
        "    #   tokenizer = pickle.load(file)"
      ],
      "metadata": {
        "id": "rYT3XcAyYJaF"
      },
      "execution_count": null,
      "outputs": []
    },
    {
      "cell_type": "code",
      "source": [
        "data_filtering.Content = data_filtering.Content.apply(preprocessing)\n",
        "data_filtering"
      ],
      "metadata": {
        "colab": {
          "base_uri": "https://localhost:8080/",
          "height": 597
        },
        "id": "unwRPErq03KB",
        "outputId": "8b9486bc-e351-4b92-966f-c7de82a8b06f"
      },
      "execution_count": 47,
      "outputs": [
        {
          "output_type": "execute_result",
          "data": {
            "text/plain": [
              "     id_attraction                   name_attraction  \\\n",
              "0                6           Taman Impian Jaya Ancol   \n",
              "1               47                Taman Situ Lembang   \n",
              "2               66              Museum Layang-layang   \n",
              "3                1                  Monumen Nasional   \n",
              "4                2                          Kota Tua   \n",
              "..             ...                               ...   \n",
              "432            432                       Taman Mundu   \n",
              "433            433               Museum Mpu Tantular   \n",
              "434            434                     Taman Bungkul   \n",
              "435            435  Taman Air Mancur Menari Kenjeran   \n",
              "436            436      Taman Flora Bratang Surabaya   \n",
              "\n",
              "                                               Content name_attraction_cat  \n",
              "0    taman impi jaya ancol rupa buah objek wisata j...       Taman Hiburan  \n",
              "1    taman situ lembang buah taman kota letak pusat...       Taman Hiburan  \n",
              "2    museum layang buah museum letak jl h kamang no...              Budaya  \n",
              "3    monumen nasional populer singkat monas tugu mo...              Budaya  \n",
              "4    kota tua jakarta juga nama kota tua pusat alun...              Budaya  \n",
              "..                                                 ...                 ...  \n",
              "432  taman mundu rupa salah satu taman ruang buka h...       Taman Hiburan  \n",
              "433  museum negeri mpu tantular buah museum negeri ...              Budaya  \n",
              "434  taman bungkul taman wisata kota letak pusat ko...       Taman Hiburan  \n",
              "435  air mancur tari dancing fountain ada kawasan j...       Taman Hiburan  \n",
              "436  taman flora salah satu taman kota surabaya rup...       Taman Hiburan  \n",
              "\n",
              "[437 rows x 4 columns]"
            ],
            "text/html": [
              "\n",
              "  <div id=\"df-cc7d1bb2-0ca3-424c-ad20-1235062ccd8d\" class=\"colab-df-container\">\n",
              "    <div>\n",
              "<style scoped>\n",
              "    .dataframe tbody tr th:only-of-type {\n",
              "        vertical-align: middle;\n",
              "    }\n",
              "\n",
              "    .dataframe tbody tr th {\n",
              "        vertical-align: top;\n",
              "    }\n",
              "\n",
              "    .dataframe thead th {\n",
              "        text-align: right;\n",
              "    }\n",
              "</style>\n",
              "<table border=\"1\" class=\"dataframe\">\n",
              "  <thead>\n",
              "    <tr style=\"text-align: right;\">\n",
              "      <th></th>\n",
              "      <th>id_attraction</th>\n",
              "      <th>name_attraction</th>\n",
              "      <th>Content</th>\n",
              "      <th>name_attraction_cat</th>\n",
              "    </tr>\n",
              "  </thead>\n",
              "  <tbody>\n",
              "    <tr>\n",
              "      <th>0</th>\n",
              "      <td>6</td>\n",
              "      <td>Taman Impian Jaya Ancol</td>\n",
              "      <td>taman impi jaya ancol rupa buah objek wisata j...</td>\n",
              "      <td>Taman Hiburan</td>\n",
              "    </tr>\n",
              "    <tr>\n",
              "      <th>1</th>\n",
              "      <td>47</td>\n",
              "      <td>Taman Situ Lembang</td>\n",
              "      <td>taman situ lembang buah taman kota letak pusat...</td>\n",
              "      <td>Taman Hiburan</td>\n",
              "    </tr>\n",
              "    <tr>\n",
              "      <th>2</th>\n",
              "      <td>66</td>\n",
              "      <td>Museum Layang-layang</td>\n",
              "      <td>museum layang buah museum letak jl h kamang no...</td>\n",
              "      <td>Budaya</td>\n",
              "    </tr>\n",
              "    <tr>\n",
              "      <th>3</th>\n",
              "      <td>1</td>\n",
              "      <td>Monumen Nasional</td>\n",
              "      <td>monumen nasional populer singkat monas tugu mo...</td>\n",
              "      <td>Budaya</td>\n",
              "    </tr>\n",
              "    <tr>\n",
              "      <th>4</th>\n",
              "      <td>2</td>\n",
              "      <td>Kota Tua</td>\n",
              "      <td>kota tua jakarta juga nama kota tua pusat alun...</td>\n",
              "      <td>Budaya</td>\n",
              "    </tr>\n",
              "    <tr>\n",
              "      <th>...</th>\n",
              "      <td>...</td>\n",
              "      <td>...</td>\n",
              "      <td>...</td>\n",
              "      <td>...</td>\n",
              "    </tr>\n",
              "    <tr>\n",
              "      <th>432</th>\n",
              "      <td>432</td>\n",
              "      <td>Taman Mundu</td>\n",
              "      <td>taman mundu rupa salah satu taman ruang buka h...</td>\n",
              "      <td>Taman Hiburan</td>\n",
              "    </tr>\n",
              "    <tr>\n",
              "      <th>433</th>\n",
              "      <td>433</td>\n",
              "      <td>Museum Mpu Tantular</td>\n",
              "      <td>museum negeri mpu tantular buah museum negeri ...</td>\n",
              "      <td>Budaya</td>\n",
              "    </tr>\n",
              "    <tr>\n",
              "      <th>434</th>\n",
              "      <td>434</td>\n",
              "      <td>Taman Bungkul</td>\n",
              "      <td>taman bungkul taman wisata kota letak pusat ko...</td>\n",
              "      <td>Taman Hiburan</td>\n",
              "    </tr>\n",
              "    <tr>\n",
              "      <th>435</th>\n",
              "      <td>435</td>\n",
              "      <td>Taman Air Mancur Menari Kenjeran</td>\n",
              "      <td>air mancur tari dancing fountain ada kawasan j...</td>\n",
              "      <td>Taman Hiburan</td>\n",
              "    </tr>\n",
              "    <tr>\n",
              "      <th>436</th>\n",
              "      <td>436</td>\n",
              "      <td>Taman Flora Bratang Surabaya</td>\n",
              "      <td>taman flora salah satu taman kota surabaya rup...</td>\n",
              "      <td>Taman Hiburan</td>\n",
              "    </tr>\n",
              "  </tbody>\n",
              "</table>\n",
              "<p>437 rows × 4 columns</p>\n",
              "</div>\n",
              "    <div class=\"colab-df-buttons\">\n",
              "\n",
              "  <div class=\"colab-df-container\">\n",
              "    <button class=\"colab-df-convert\" onclick=\"convertToInteractive('df-cc7d1bb2-0ca3-424c-ad20-1235062ccd8d')\"\n",
              "            title=\"Convert this dataframe to an interactive table.\"\n",
              "            style=\"display:none;\">\n",
              "\n",
              "  <svg xmlns=\"http://www.w3.org/2000/svg\" height=\"24px\" viewBox=\"0 -960 960 960\">\n",
              "    <path d=\"M120-120v-720h720v720H120Zm60-500h600v-160H180v160Zm220 220h160v-160H400v160Zm0 220h160v-160H400v160ZM180-400h160v-160H180v160Zm440 0h160v-160H620v160ZM180-180h160v-160H180v160Zm440 0h160v-160H620v160Z\"/>\n",
              "  </svg>\n",
              "    </button>\n",
              "\n",
              "  <style>\n",
              "    .colab-df-container {\n",
              "      display:flex;\n",
              "      gap: 12px;\n",
              "    }\n",
              "\n",
              "    .colab-df-convert {\n",
              "      background-color: #E8F0FE;\n",
              "      border: none;\n",
              "      border-radius: 50%;\n",
              "      cursor: pointer;\n",
              "      display: none;\n",
              "      fill: #1967D2;\n",
              "      height: 32px;\n",
              "      padding: 0 0 0 0;\n",
              "      width: 32px;\n",
              "    }\n",
              "\n",
              "    .colab-df-convert:hover {\n",
              "      background-color: #E2EBFA;\n",
              "      box-shadow: 0px 1px 2px rgba(60, 64, 67, 0.3), 0px 1px 3px 1px rgba(60, 64, 67, 0.15);\n",
              "      fill: #174EA6;\n",
              "    }\n",
              "\n",
              "    .colab-df-buttons div {\n",
              "      margin-bottom: 4px;\n",
              "    }\n",
              "\n",
              "    [theme=dark] .colab-df-convert {\n",
              "      background-color: #3B4455;\n",
              "      fill: #D2E3FC;\n",
              "    }\n",
              "\n",
              "    [theme=dark] .colab-df-convert:hover {\n",
              "      background-color: #434B5C;\n",
              "      box-shadow: 0px 1px 3px 1px rgba(0, 0, 0, 0.15);\n",
              "      filter: drop-shadow(0px 1px 2px rgba(0, 0, 0, 0.3));\n",
              "      fill: #FFFFFF;\n",
              "    }\n",
              "  </style>\n",
              "\n",
              "    <script>\n",
              "      const buttonEl =\n",
              "        document.querySelector('#df-cc7d1bb2-0ca3-424c-ad20-1235062ccd8d button.colab-df-convert');\n",
              "      buttonEl.style.display =\n",
              "        google.colab.kernel.accessAllowed ? 'block' : 'none';\n",
              "\n",
              "      async function convertToInteractive(key) {\n",
              "        const element = document.querySelector('#df-cc7d1bb2-0ca3-424c-ad20-1235062ccd8d');\n",
              "        const dataTable =\n",
              "          await google.colab.kernel.invokeFunction('convertToInteractive',\n",
              "                                                    [key], {});\n",
              "        if (!dataTable) return;\n",
              "\n",
              "        const docLinkHtml = 'Like what you see? Visit the ' +\n",
              "          '<a target=\"_blank\" href=https://colab.research.google.com/notebooks/data_table.ipynb>data table notebook</a>'\n",
              "          + ' to learn more about interactive tables.';\n",
              "        element.innerHTML = '';\n",
              "        dataTable['output_type'] = 'display_data';\n",
              "        await google.colab.output.renderOutput(dataTable, element);\n",
              "        const docLink = document.createElement('div');\n",
              "        docLink.innerHTML = docLinkHtml;\n",
              "        element.appendChild(docLink);\n",
              "      }\n",
              "    </script>\n",
              "  </div>\n",
              "\n",
              "\n",
              "<div id=\"df-0308d579-68c1-42a7-ba49-1ca1605655be\">\n",
              "  <button class=\"colab-df-quickchart\" onclick=\"quickchart('df-0308d579-68c1-42a7-ba49-1ca1605655be')\"\n",
              "            title=\"Suggest charts.\"\n",
              "            style=\"display:none;\">\n",
              "\n",
              "<svg xmlns=\"http://www.w3.org/2000/svg\" height=\"24px\"viewBox=\"0 0 24 24\"\n",
              "     width=\"24px\">\n",
              "    <g>\n",
              "        <path d=\"M19 3H5c-1.1 0-2 .9-2 2v14c0 1.1.9 2 2 2h14c1.1 0 2-.9 2-2V5c0-1.1-.9-2-2-2zM9 17H7v-7h2v7zm4 0h-2V7h2v10zm4 0h-2v-4h2v4z\"/>\n",
              "    </g>\n",
              "</svg>\n",
              "  </button>\n",
              "\n",
              "<style>\n",
              "  .colab-df-quickchart {\n",
              "    background-color: #E8F0FE;\n",
              "    border: none;\n",
              "    border-radius: 50%;\n",
              "    cursor: pointer;\n",
              "    display: none;\n",
              "    fill: #1967D2;\n",
              "    height: 32px;\n",
              "    padding: 0 0 0 0;\n",
              "    width: 32px;\n",
              "  }\n",
              "\n",
              "  .colab-df-quickchart:hover {\n",
              "    background-color: #E2EBFA;\n",
              "    box-shadow: 0px 1px 2px rgba(60, 64, 67, 0.3), 0px 1px 3px 1px rgba(60, 64, 67, 0.15);\n",
              "    fill: #174EA6;\n",
              "  }\n",
              "\n",
              "  [theme=dark] .colab-df-quickchart {\n",
              "    background-color: #3B4455;\n",
              "    fill: #D2E3FC;\n",
              "  }\n",
              "\n",
              "  [theme=dark] .colab-df-quickchart:hover {\n",
              "    background-color: #434B5C;\n",
              "    box-shadow: 0px 1px 3px 1px rgba(0, 0, 0, 0.15);\n",
              "    filter: drop-shadow(0px 1px 2px rgba(0, 0, 0, 0.3));\n",
              "    fill: #FFFFFF;\n",
              "  }\n",
              "</style>\n",
              "\n",
              "  <script>\n",
              "    async function quickchart(key) {\n",
              "      const charts = await google.colab.kernel.invokeFunction(\n",
              "          'suggestCharts', [key], {});\n",
              "    }\n",
              "    (() => {\n",
              "      let quickchartButtonEl =\n",
              "        document.querySelector('#df-0308d579-68c1-42a7-ba49-1ca1605655be button');\n",
              "      quickchartButtonEl.style.display =\n",
              "        google.colab.kernel.accessAllowed ? 'block' : 'none';\n",
              "    })();\n",
              "  </script>\n",
              "</div>\n",
              "    </div>\n",
              "  </div>\n"
            ]
          },
          "metadata": {},
          "execution_count": 47
        }
      ]
    },
    {
      "cell_type": "code",
      "source": [
        "data_filtering.to_csv(\"data_filtering.csv\", index=False, header=True)"
      ],
      "metadata": {
        "id": "AFELOduhfAor"
      },
      "execution_count": 48,
      "outputs": []
    },
    {
      "cell_type": "code",
      "source": [
        "# Genre distribution\n",
        "data_filtering['name_attraction_cat'].value_counts().plot(x = 'name_attraction_cat', y ='count', kind = 'bar', figsize = (10,5))\n"
      ],
      "metadata": {
        "colab": {
          "base_uri": "https://localhost:8080/",
          "height": 566
        },
        "id": "KOGbkjRfJ-bT",
        "outputId": "7d7038a8-fb85-4ade-92c1-f9b8de727f5c"
      },
      "execution_count": 49,
      "outputs": [
        {
          "output_type": "execute_result",
          "data": {
            "text/plain": [
              "<Axes: >"
            ]
          },
          "metadata": {},
          "execution_count": 49
        },
        {
          "output_type": "display_data",
          "data": {
            "text/plain": [
              "<Figure size 1000x500 with 1 Axes>"
            ],
            "image/png": "[encoded data removed]"
          },
          "metadata": {}
        }
      ]
    },
    {
      "cell_type": "code",
      "source": [
        "vectors = tfidf.fit_transform(data_filtering['Content']).toarray()\n",
        "vectors"
      ],
      "metadata": {
        "colab": {
          "base_uri": "https://localhost:8080/"
        },
        "id": "niviGrij3CSW",
        "outputId": "0c7aaab6-7fba-441a-fec9-6a32b9d50584"
      },
      "execution_count": 52,
      "outputs": [
        {
          "output_type": "execute_result",
          "data": {
            "text/plain": [
              "array([[0.       , 0.       , 0.       , ..., 0.       , 0.       ,\n",
              "        0.       ],\n",
              "       [0.       , 0.       , 0.       , ..., 0.       , 0.       ,\n",
              "        0.       ],\n",
              "       [0.1695384, 0.       , 0.       , ..., 0.       , 0.       ,\n",
              "        0.       ],\n",
              "       ...,\n",
              "       [0.       , 0.       , 0.       , ..., 0.       , 0.       ,\n",
              "        0.       ],\n",
              "       [0.       , 0.       , 0.       , ..., 0.       , 0.       ,\n",
              "        0.       ],\n",
              "       [0.       , 0.       , 0.       , ..., 0.       , 0.       ,\n",
              "        0.       ]])"
            ]
          },
          "metadata": {},
          "execution_count": 52
        }
      ]
    },
    {
      "cell_type": "code",
      "source": [
        "similarity = cosine_similarity(vectors)\n",
        "similarity[0][1:10]"
      ],
      "metadata": {
        "colab": {
          "base_uri": "https://localhost:8080/"
        },
        "id": "Gw4i3aQl3ZIB",
        "outputId": "7a084300-32fd-473b-960f-7c6d68b4dbc3"
      },
      "execution_count": 53,
      "outputs": [
        {
          "output_type": "execute_result",
          "data": {
            "text/plain": [
              "array([0.18972463, 0.02219708, 0.01497397, 0.03670526, 0.46922383,\n",
              "       0.14892283, 0.17618366, 0.02137544, 0.10129037])"
            ]
          },
          "metadata": {},
          "execution_count": 53
        }
      ]
    },
    {
      "cell_type": "code",
      "source": [
        "def recommend_filtering(nama_tempat):\n",
        "    # Get the pairwsie similarity scores of all place name with given place name\n",
        "    nama_tempat_index = data_filtering[data_filtering['name_attraction']==nama_tempat].index[0]\n",
        "    distancess = similarity[nama_tempat_index]\n",
        "    # Sort place based on the similarity scores\n",
        "    nama_tempat_list = sorted(list(enumerate(distancess)),key=lambda x: x[1],reverse=True)[1:20]\n",
        "\n",
        "    recommended_nama_tempats = []\n",
        "    for i in nama_tempat_list:\n",
        "        recommended_nama_tempats.append([data_filtering.iloc[i[0]].name_attraction]+[i[1]])\n",
        "        # print(nama_tempats.iloc[i[0]].original_title)\n",
        "\n",
        "    return recommended_nama_tempats"
      ],
      "metadata": {
        "id": "UY17gAqb2p1v"
      },
      "execution_count": 54,
      "outputs": []
    },
    {
      "cell_type": "code",
      "source": [
        "recommend_filtering('Pantai Watu Kodok')"
      ],
      "metadata": {
        "colab": {
          "base_uri": "https://localhost:8080/"
        },
        "id": "oPyCcKhg3gzb",
        "outputId": "9733cf84-d290-41c6-cf3a-b5de9c1e4d90"
      },
      "execution_count": 55,
      "outputs": [
        {
          "output_type": "execute_result",
          "data": {
            "text/plain": [
              "[['Pantai Kukup', 0.5659440531411729],\n",
              " ['Pantai Timang', 0.5185433503874808],\n",
              " ['Pantai Drini', 0.5034916444153296],\n",
              " ['Pantai Ngandong', 0.48939744234953786],\n",
              " ['Pantai Sundak', 0.4855410205632306],\n",
              " ['Pantai Ngrawe (Mesra)', 0.4655150705971857],\n",
              " ['Pantai Sadranan', 0.449062834411672],\n",
              " ['Pantai Jungwok', 0.42546650148837023],\n",
              " ['Pantai Cipta', 0.4101023347137378],\n",
              " ['Pantai Glagah', 0.3757216172666508],\n",
              " ['Pantai Nglambor', 0.36837311443087445],\n",
              " ['Pantai Congot', 0.34904230497896804],\n",
              " ['Pantai Pok Tunggal', 0.34384697708420525],\n",
              " ['Pantai Kesirat', 0.3383368340812807],\n",
              " ['Pantai Sedahan', 0.33818120552195025],\n",
              " ['Pantai Ancol', 0.3376499329941046],\n",
              " ['Pantai Sanglen', 0.33675445374563584],\n",
              " ['Pantai Goa Cemara', 0.3341901007750466],\n",
              " ['Pantai Indrayanti', 0.334168070919927]]"
            ]
          },
          "metadata": {},
          "execution_count": 55
        }
      ]
    },
    {
      "cell_type": "code",
      "source": [
        "# Simpan model ke dalam file\n",
        "model_file = 'content_based_model.pkl'\n",
        "with open(model_file, 'wb') as file:\n",
        "    pickle.dump(similarity, file)"
      ],
      "metadata": {
        "id": "joLD1PX8O4PU"
      },
      "execution_count": null,
      "outputs": []
    }
  ]
}