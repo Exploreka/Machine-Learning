{
  "nbformat": 4,
  "nbformat_minor": 0,
  "metadata": {
    "colab": {
      "provenance": []
    },
    "kernelspec": {
      "name": "python3",
      "display_name": "Python 3"
    },
    "language_info": {
      "name": "python"
    }
  },
  "cells": [
    {
      "cell_type": "code",
      "execution_count": null,
      "metadata": {
        "id": "sFI9VdgpMDbj",
        "colab": {
          "base_uri": "https://localhost:8080/"
        },
        "outputId": "7004de23-a8d7-418e-9315-e0f2b78ebfc3"
      },
      "outputs": [
        {
          "output_type": "stream",
          "name": "stdout",
          "text": [
            "Looking in indexes: https://pypi.org/simple, https://us-python.pkg.dev/colab-wheels/public/simple/\n",
            "Collecting Sastrawi\n",
            "  Downloading Sastrawi-1.0.1-py2.py3-none-any.whl (209 kB)\n",
            "\u001b[2K     \u001b[90m━━━━━━━━━━━━━━━━━━━━━━━━━━━━━━━━━━━━━━\u001b[0m \u001b[32m209.7/209.7 kB\u001b[0m \u001b[31m14.2 MB/s\u001b[0m eta \u001b[36m0:00:00\u001b[0m\n",
            "\u001b[?25hInstalling collected packages: Sastrawi\n",
            "Successfully installed Sastrawi-1.0.1\n"
          ]
        }
      ],
      "source": [
        "!pip install Sastrawi"
      ]
    },
    {
      "cell_type": "code",
      "source": [
        "\n",
        "!pip install h5py"
      ],
      "metadata": {
        "colab": {
          "base_uri": "https://localhost:8080/"
        },
        "id": "KX0Gqph27WCl",
        "outputId": "575938a8-261b-437f-9f25-123afca6efca"
      },
      "execution_count": null,
      "outputs": [
        {
          "output_type": "stream",
          "name": "stdout",
          "text": [
            "Looking in indexes: https://pypi.org/simple, https://us-python.pkg.dev/colab-wheels/public/simple/\n",
            "Requirement already satisfied: h5py in /usr/local/lib/python3.10/dist-packages (3.8.0)\n",
            "Requirement already satisfied: numpy>=1.14.5 in /usr/local/lib/python3.10/dist-packages (from h5py) (1.22.4)\n"
          ]
        }
      ]
    },
    {
      "cell_type": "code",
      "source": [
        "import pandas as pd\n",
        "import numpy as np\n",
        "import matplotlib.pyplot as plt\n",
        "import seaborn as sns\n",
        "import plotly.express as px\n",
        "import pickle\n",
        "\n",
        "from sklearn.feature_extraction.text import TfidfVectorizer\n",
        "from Sastrawi.Stemmer.StemmerFactory import StemmerFactory\n",
        "from Sastrawi.StopWordRemover.StopWordRemoverFactory import StopWordRemoverFactory\n",
        "from sklearn.metrics.pairwise import cosine_similarity\n",
        "\n",
        "from zipfile import ZipFile\n",
        "import tensorflow as tf\n",
        "from tensorflow import keras\n",
        "from tensorflow.keras import layers\n",
        "from pathlib import Path\n",
        "from nltk.tokenize import RegexpTokenizer\n",
        "import re\n",
        "\n",
        "tfidf = TfidfVectorizer(max_features=5000)\n",
        "stem = StemmerFactory().create_stemmer()\n",
        "stopword = StopWordRemoverFactory().create_stop_word_remover()"
      ],
      "metadata": {
        "id": "JaTs7xI1x11I"
      },
      "execution_count": null,
      "outputs": []
    },
    {
      "cell_type": "code",
      "source": [
        "tourism_with_id = pd.read_csv('tourism_with_idd.csv')\n",
        "print(tourism_with_id.info())"
      ],
      "metadata": {
        "colab": {
          "base_uri": "https://localhost:8080/"
        },
        "id": "o9L3BF8wRo1e",
        "outputId": "d31f5bd2-13fb-4da8-81a1-3eaec3532ee2"
      },
      "execution_count": null,
      "outputs": [
        {
          "output_type": "stream",
          "name": "stdout",
          "text": [
            "<class 'pandas.core.frame.DataFrame'>\n",
            "RangeIndex: 437 entries, 0 to 436\n",
            "Data columns (total 9 columns):\n",
            " #   Column                 Non-Null Count  Dtype  \n",
            "---  ------                 --------------  -----  \n",
            " 0   id_attraction          437 non-null    int64  \n",
            " 1   name_attraction        437 non-null    object \n",
            " 2   price_attraction       437 non-null    int64  \n",
            " 3   rating_avg_attraction  437 non-null    float64\n",
            " 4   id_city                437 non-null    int64  \n",
            " 5   id_attraction_cat      437 non-null    int64  \n",
            " 6   name_attraction_cat    437 non-null    object \n",
            " 7   name_city              437 non-null    object \n",
            " 8   desc_attraction        437 non-null    object \n",
            "dtypes: float64(1), int64(4), object(4)\n",
            "memory usage: 30.9+ KB\n",
            "None\n"
          ]
        }
      ]
    },
    {
      "cell_type": "code",
      "source": [
        "def preprocessing(data):\n",
        "    data = data.lower()\n",
        "    data = stem.stem(data)\n",
        "    data = stopword.remove(data)\n",
        "    html_pattern = re.compile('<.*?>')\n",
        "    data = html_pattern.sub(r'', data)\n",
        "    tokenizer = RegexpTokenizer(r'\\w+')\n",
        "    data_token = tokenizer.tokenize(data)\n",
        "    data = \" \".join(data_token)\n",
        "    return data"
      ],
      "metadata": {
        "id": "Cf91_jjMFzNs"
      },
      "execution_count": null,
      "outputs": []
    },
    {
      "cell_type": "code",
      "source": [
        "data_filtering = tourism_with_id.copy()\n",
        "data_filtering['Content'] = data_filtering['desc_attraction'] + ' ' + data_filtering['name_attraction_cat']\n",
        "data_filtering = data_filtering[\n",
        "    [\"id_attraction\",\"name_attraction\",\"Content\",\"name_attraction_cat\"]\n",
        "]\n",
        "data_filtering"
      ],
      "metadata": {
        "colab": {
          "base_uri": "https://localhost:8080/",
          "height": 641
        },
        "id": "XWmiMTtX0K_n",
        "outputId": "06ead54e-43b5-45f1-8d40-2d9aa5208483"
      },
      "execution_count": null,
      "outputs": [
        {
          "output_type": "execute_result",
          "data": {
            "text/plain": [
              "     id_attraction                   name_attraction  \\\n",
              "0                6           Taman Impian Jaya Ancol   \n",
              "1               47                Taman Situ Lembang   \n",
              "2               66              Museum Layang-layang   \n",
              "3                1                  Monumen Nasional   \n",
              "4                2                          Kota Tua   \n",
              "..             ...                               ...   \n",
              "432            432                       Taman Mundu   \n",
              "433            433               Museum Mpu Tantular   \n",
              "434            434                     Taman Bungkul   \n",
              "435            435  Taman Air Mancur Menari Kenjeran   \n",
              "436            436      Taman Flora Bratang Surabaya   \n",
              "\n",
              "                                               Content name_attraction_cat  \n",
              "0    Taman Impian Jaya Ancol merupakan sebuah objek...       Taman Hiburan  \n",
              "1    Taman Situ Lembang adalah sebuah taman kota ya...       Taman Hiburan  \n",
              "2    Museum Layang-Layang adalah sebuah museum yang...              Budaya  \n",
              "3    Monumen Nasional atau yang populer disingkat d...              Budaya  \n",
              "4    Kota tua di Jakarta, yang juga bernama Kota Tu...              Budaya  \n",
              "..                                                 ...                 ...  \n",
              "432  Taman Mundu merupakan salah satu taman atau ru...       Taman Hiburan  \n",
              "433  Museum Negeri Mpu Tantular adalah sebuah museu...              Budaya  \n",
              "434  Taman Bungkul adalah taman wisata kota yang te...       Taman Hiburan  \n",
              "435  Air mancur menari atau dancing fountain juga a...       Taman Hiburan  \n",
              "436  Taman Flora adalah salah satu taman kota di Su...       Taman Hiburan  \n",
              "\n",
              "[437 rows x 4 columns]"
            ],
            "text/html": [
              "\n",
              "  <div id=\"df-d81c49b6-141a-4c8d-b7d1-d685b6fb1961\">\n",
              "    <div class=\"colab-df-container\">\n",
              "      <div>\n",
              "<style scoped>\n",
              "    .dataframe tbody tr th:only-of-type {\n",
              "        vertical-align: middle;\n",
              "    }\n",
              "\n",
              "    .dataframe tbody tr th {\n",
              "        vertical-align: top;\n",
              "    }\n",
              "\n",
              "    .dataframe thead th {\n",
              "        text-align: right;\n",
              "    }\n",
              "</style>\n",
              "<table border=\"1\" class=\"dataframe\">\n",
              "  <thead>\n",
              "    <tr style=\"text-align: right;\">\n",
              "      <th></th>\n",
              "      <th>id_attraction</th>\n",
              "      <th>name_attraction</th>\n",
              "      <th>Content</th>\n",
              "      <th>name_attraction_cat</th>\n",
              "    </tr>\n",
              "  </thead>\n",
              "  <tbody>\n",
              "    <tr>\n",
              "      <th>0</th>\n",
              "      <td>6</td>\n",
              "      <td>Taman Impian Jaya Ancol</td>\n",
              "      <td>Taman Impian Jaya Ancol merupakan sebuah objek...</td>\n",
              "      <td>Taman Hiburan</td>\n",
              "    </tr>\n",
              "    <tr>\n",
              "      <th>1</th>\n",
              "      <td>47</td>\n",
              "      <td>Taman Situ Lembang</td>\n",
              "      <td>Taman Situ Lembang adalah sebuah taman kota ya...</td>\n",
              "      <td>Taman Hiburan</td>\n",
              "    </tr>\n",
              "    <tr>\n",
              "      <th>2</th>\n",
              "      <td>66</td>\n",
              "      <td>Museum Layang-layang</td>\n",
              "      <td>Museum Layang-Layang adalah sebuah museum yang...</td>\n",
              "      <td>Budaya</td>\n",
              "    </tr>\n",
              "    <tr>\n",
              "      <th>3</th>\n",
              "      <td>1</td>\n",
              "      <td>Monumen Nasional</td>\n",
              "      <td>Monumen Nasional atau yang populer disingkat d...</td>\n",
              "      <td>Budaya</td>\n",
              "    </tr>\n",
              "    <tr>\n",
              "      <th>4</th>\n",
              "      <td>2</td>\n",
              "      <td>Kota Tua</td>\n",
              "      <td>Kota tua di Jakarta, yang juga bernama Kota Tu...</td>\n",
              "      <td>Budaya</td>\n",
              "    </tr>\n",
              "    <tr>\n",
              "      <th>...</th>\n",
              "      <td>...</td>\n",
              "      <td>...</td>\n",
              "      <td>...</td>\n",
              "      <td>...</td>\n",
              "    </tr>\n",
              "    <tr>\n",
              "      <th>432</th>\n",
              "      <td>432</td>\n",
              "      <td>Taman Mundu</td>\n",
              "      <td>Taman Mundu merupakan salah satu taman atau ru...</td>\n",
              "      <td>Taman Hiburan</td>\n",
              "    </tr>\n",
              "    <tr>\n",
              "      <th>433</th>\n",
              "      <td>433</td>\n",
              "      <td>Museum Mpu Tantular</td>\n",
              "      <td>Museum Negeri Mpu Tantular adalah sebuah museu...</td>\n",
              "      <td>Budaya</td>\n",
              "    </tr>\n",
              "    <tr>\n",
              "      <th>434</th>\n",
              "      <td>434</td>\n",
              "      <td>Taman Bungkul</td>\n",
              "      <td>Taman Bungkul adalah taman wisata kota yang te...</td>\n",
              "      <td>Taman Hiburan</td>\n",
              "    </tr>\n",
              "    <tr>\n",
              "      <th>435</th>\n",
              "      <td>435</td>\n",
              "      <td>Taman Air Mancur Menari Kenjeran</td>\n",
              "      <td>Air mancur menari atau dancing fountain juga a...</td>\n",
              "      <td>Taman Hiburan</td>\n",
              "    </tr>\n",
              "    <tr>\n",
              "      <th>436</th>\n",
              "      <td>436</td>\n",
              "      <td>Taman Flora Bratang Surabaya</td>\n",
              "      <td>Taman Flora adalah salah satu taman kota di Su...</td>\n",
              "      <td>Taman Hiburan</td>\n",
              "    </tr>\n",
              "  </tbody>\n",
              "</table>\n",
              "<p>437 rows × 4 columns</p>\n",
              "</div>\n",
              "      <button class=\"colab-df-convert\" onclick=\"convertToInteractive('df-d81c49b6-141a-4c8d-b7d1-d685b6fb1961')\"\n",
              "              title=\"Convert this dataframe to an interactive table.\"\n",
              "              style=\"display:none;\">\n",
              "        \n",
              "  <svg xmlns=\"http://www.w3.org/2000/svg\" height=\"24px\"viewBox=\"0 0 24 24\"\n",
              "       width=\"24px\">\n",
              "    <path d=\"M0 0h24v24H0V0z\" fill=\"none\"/>\n",
              "    <path d=\"M18.56 5.44l.94 2.06.94-2.06 2.06-.94-2.06-.94-.94-2.06-.94 2.06-2.06.94zm-11 1L8.5 8.5l.94-2.06 2.06-.94-2.06-.94L8.5 2.5l-.94 2.06-2.06.94zm10 10l.94 2.06.94-2.06 2.06-.94-2.06-.94-.94-2.06-.94 2.06-2.06.94z\"/><path d=\"M17.41 7.96l-1.37-1.37c-.4-.4-.92-.59-1.43-.59-.52 0-1.04.2-1.43.59L10.3 9.45l-7.72 7.72c-.78.78-.78 2.05 0 2.83L4 21.41c.39.39.9.59 1.41.59.51 0 1.02-.2 1.41-.59l7.78-7.78 2.81-2.81c.8-.78.8-2.07 0-2.86zM5.41 20L4 18.59l7.72-7.72 1.47 1.35L5.41 20z\"/>\n",
              "  </svg>\n",
              "      </button>\n",
              "      \n",
              "  <style>\n",
              "    .colab-df-container {\n",
              "      display:flex;\n",
              "      flex-wrap:wrap;\n",
              "      gap: 12px;\n",
              "    }\n",
              "\n",
              "    .colab-df-convert {\n",
              "      background-color: #E8F0FE;\n",
              "      border: none;\n",
              "      border-radius: 50%;\n",
              "      cursor: pointer;\n",
              "      display: none;\n",
              "      fill: #1967D2;\n",
              "      height: 32px;\n",
              "      padding: 0 0 0 0;\n",
              "      width: 32px;\n",
              "    }\n",
              "\n",
              "    .colab-df-convert:hover {\n",
              "      background-color: #E2EBFA;\n",
              "      box-shadow: 0px 1px 2px rgba(60, 64, 67, 0.3), 0px 1px 3px 1px rgba(60, 64, 67, 0.15);\n",
              "      fill: #174EA6;\n",
              "    }\n",
              "\n",
              "    [theme=dark] .colab-df-convert {\n",
              "      background-color: #3B4455;\n",
              "      fill: #D2E3FC;\n",
              "    }\n",
              "\n",
              "    [theme=dark] .colab-df-convert:hover {\n",
              "      background-color: #434B5C;\n",
              "      box-shadow: 0px 1px 3px 1px rgba(0, 0, 0, 0.15);\n",
              "      filter: drop-shadow(0px 1px 2px rgba(0, 0, 0, 0.3));\n",
              "      fill: #FFFFFF;\n",
              "    }\n",
              "  </style>\n",
              "\n",
              "      <script>\n",
              "        const buttonEl =\n",
              "          document.querySelector('#df-d81c49b6-141a-4c8d-b7d1-d685b6fb1961 button.colab-df-convert');\n",
              "        buttonEl.style.display =\n",
              "          google.colab.kernel.accessAllowed ? 'block' : 'none';\n",
              "\n",
              "        async function convertToInteractive(key) {\n",
              "          const element = document.querySelector('#df-d81c49b6-141a-4c8d-b7d1-d685b6fb1961');\n",
              "          const dataTable =\n",
              "            await google.colab.kernel.invokeFunction('convertToInteractive',\n",
              "                                                     [key], {});\n",
              "          if (!dataTable) return;\n",
              "\n",
              "          const docLinkHtml = 'Like what you see? Visit the ' +\n",
              "            '<a target=\"_blank\" href=https://colab.research.google.com/notebooks/data_table.ipynb>data table notebook</a>'\n",
              "            + ' to learn more about interactive tables.';\n",
              "          element.innerHTML = '';\n",
              "          dataTable['output_type'] = 'display_data';\n",
              "          await google.colab.output.renderOutput(dataTable, element);\n",
              "          const docLink = document.createElement('div');\n",
              "          docLink.innerHTML = docLinkHtml;\n",
              "          element.appendChild(docLink);\n",
              "        }\n",
              "      </script>\n",
              "    </div>\n",
              "  </div>\n",
              "  "
            ]
          },
          "metadata": {},
          "execution_count": 19
        }
      ]
    },
    {
      "cell_type": "code",
      "source": [
        "# with open('tokenizer.pkl', 'wb') as file:\n",
        "#       pickle.dump(tokenizer, file)\n",
        "    # with open('tokenizer.pkl', 'rb') as file:\n",
        "    #   tokenizer = pickle.load(file)"
      ],
      "metadata": {
        "id": "rYT3XcAyYJaF"
      },
      "execution_count": null,
      "outputs": []
    },
    {
      "cell_type": "code",
      "source": [
        "data_filtering.Content = data_filtering.Content.apply(preprocessing)\n",
        "data_filtering"
      ],
      "metadata": {
        "colab": {
          "base_uri": "https://localhost:8080/",
          "height": 641
        },
        "id": "unwRPErq03KB",
        "outputId": "a693adc6-7cab-4965-9ca4-6013b5e083c8"
      },
      "execution_count": null,
      "outputs": [
        {
          "output_type": "execute_result",
          "data": {
            "text/plain": [
              "     id_attraction                   name_attraction  \\\n",
              "0                6           Taman Impian Jaya Ancol   \n",
              "1               47                Taman Situ Lembang   \n",
              "2               66              Museum Layang-layang   \n",
              "3                1                  Monumen Nasional   \n",
              "4                2                          Kota Tua   \n",
              "..             ...                               ...   \n",
              "432            432                       Taman Mundu   \n",
              "433            433               Museum Mpu Tantular   \n",
              "434            434                     Taman Bungkul   \n",
              "435            435  Taman Air Mancur Menari Kenjeran   \n",
              "436            436      Taman Flora Bratang Surabaya   \n",
              "\n",
              "                                               Content name_attraction_cat  \n",
              "0    taman impi jaya ancol rupa buah objek wisata j...       Taman Hiburan  \n",
              "1    taman situ lembang buah taman kota letak pusat...       Taman Hiburan  \n",
              "2    museum layang buah museum letak jl h kamang no...              Budaya  \n",
              "3    monumen nasional populer singkat monas tugu mo...              Budaya  \n",
              "4    kota tua jakarta juga nama kota tua pusat alun...              Budaya  \n",
              "..                                                 ...                 ...  \n",
              "432  taman mundu rupa salah satu taman ruang buka h...       Taman Hiburan  \n",
              "433  museum negeri mpu tantular buah museum negeri ...              Budaya  \n",
              "434  taman bungkul taman wisata kota letak pusat ko...       Taman Hiburan  \n",
              "435  air mancur tari dancing fountain ada kawasan j...       Taman Hiburan  \n",
              "436  taman flora salah satu taman kota surabaya rup...       Taman Hiburan  \n",
              "\n",
              "[437 rows x 4 columns]"
            ],
            "text/html": [
              "\n",
              "  <div id=\"df-710426e8-be6d-494d-804a-c421601c5c4c\">\n",
              "    <div class=\"colab-df-container\">\n",
              "      <div>\n",
              "<style scoped>\n",
              "    .dataframe tbody tr th:only-of-type {\n",
              "        vertical-align: middle;\n",
              "    }\n",
              "\n",
              "    .dataframe tbody tr th {\n",
              "        vertical-align: top;\n",
              "    }\n",
              "\n",
              "    .dataframe thead th {\n",
              "        text-align: right;\n",
              "    }\n",
              "</style>\n",
              "<table border=\"1\" class=\"dataframe\">\n",
              "  <thead>\n",
              "    <tr style=\"text-align: right;\">\n",
              "      <th></th>\n",
              "      <th>id_attraction</th>\n",
              "      <th>name_attraction</th>\n",
              "      <th>Content</th>\n",
              "      <th>name_attraction_cat</th>\n",
              "    </tr>\n",
              "  </thead>\n",
              "  <tbody>\n",
              "    <tr>\n",
              "      <th>0</th>\n",
              "      <td>6</td>\n",
              "      <td>Taman Impian Jaya Ancol</td>\n",
              "      <td>taman impi jaya ancol rupa buah objek wisata j...</td>\n",
              "      <td>Taman Hiburan</td>\n",
              "    </tr>\n",
              "    <tr>\n",
              "      <th>1</th>\n",
              "      <td>47</td>\n",
              "      <td>Taman Situ Lembang</td>\n",
              "      <td>taman situ lembang buah taman kota letak pusat...</td>\n",
              "      <td>Taman Hiburan</td>\n",
              "    </tr>\n",
              "    <tr>\n",
              "      <th>2</th>\n",
              "      <td>66</td>\n",
              "      <td>Museum Layang-layang</td>\n",
              "      <td>museum layang buah museum letak jl h kamang no...</td>\n",
              "      <td>Budaya</td>\n",
              "    </tr>\n",
              "    <tr>\n",
              "      <th>3</th>\n",
              "      <td>1</td>\n",
              "      <td>Monumen Nasional</td>\n",
              "      <td>monumen nasional populer singkat monas tugu mo...</td>\n",
              "      <td>Budaya</td>\n",
              "    </tr>\n",
              "    <tr>\n",
              "      <th>4</th>\n",
              "      <td>2</td>\n",
              "      <td>Kota Tua</td>\n",
              "      <td>kota tua jakarta juga nama kota tua pusat alun...</td>\n",
              "      <td>Budaya</td>\n",
              "    </tr>\n",
              "    <tr>\n",
              "      <th>...</th>\n",
              "      <td>...</td>\n",
              "      <td>...</td>\n",
              "      <td>...</td>\n",
              "      <td>...</td>\n",
              "    </tr>\n",
              "    <tr>\n",
              "      <th>432</th>\n",
              "      <td>432</td>\n",
              "      <td>Taman Mundu</td>\n",
              "      <td>taman mundu rupa salah satu taman ruang buka h...</td>\n",
              "      <td>Taman Hiburan</td>\n",
              "    </tr>\n",
              "    <tr>\n",
              "      <th>433</th>\n",
              "      <td>433</td>\n",
              "      <td>Museum Mpu Tantular</td>\n",
              "      <td>museum negeri mpu tantular buah museum negeri ...</td>\n",
              "      <td>Budaya</td>\n",
              "    </tr>\n",
              "    <tr>\n",
              "      <th>434</th>\n",
              "      <td>434</td>\n",
              "      <td>Taman Bungkul</td>\n",
              "      <td>taman bungkul taman wisata kota letak pusat ko...</td>\n",
              "      <td>Taman Hiburan</td>\n",
              "    </tr>\n",
              "    <tr>\n",
              "      <th>435</th>\n",
              "      <td>435</td>\n",
              "      <td>Taman Air Mancur Menari Kenjeran</td>\n",
              "      <td>air mancur tari dancing fountain ada kawasan j...</td>\n",
              "      <td>Taman Hiburan</td>\n",
              "    </tr>\n",
              "    <tr>\n",
              "      <th>436</th>\n",
              "      <td>436</td>\n",
              "      <td>Taman Flora Bratang Surabaya</td>\n",
              "      <td>taman flora salah satu taman kota surabaya rup...</td>\n",
              "      <td>Taman Hiburan</td>\n",
              "    </tr>\n",
              "  </tbody>\n",
              "</table>\n",
              "<p>437 rows × 4 columns</p>\n",
              "</div>\n",
              "      <button class=\"colab-df-convert\" onclick=\"convertToInteractive('df-710426e8-be6d-494d-804a-c421601c5c4c')\"\n",
              "              title=\"Convert this dataframe to an interactive table.\"\n",
              "              style=\"display:none;\">\n",
              "        \n",
              "  <svg xmlns=\"http://www.w3.org/2000/svg\" height=\"24px\"viewBox=\"0 0 24 24\"\n",
              "       width=\"24px\">\n",
              "    <path d=\"M0 0h24v24H0V0z\" fill=\"none\"/>\n",
              "    <path d=\"M18.56 5.44l.94 2.06.94-2.06 2.06-.94-2.06-.94-.94-2.06-.94 2.06-2.06.94zm-11 1L8.5 8.5l.94-2.06 2.06-.94-2.06-.94L8.5 2.5l-.94 2.06-2.06.94zm10 10l.94 2.06.94-2.06 2.06-.94-2.06-.94-.94-2.06-.94 2.06-2.06.94z\"/><path d=\"M17.41 7.96l-1.37-1.37c-.4-.4-.92-.59-1.43-.59-.52 0-1.04.2-1.43.59L10.3 9.45l-7.72 7.72c-.78.78-.78 2.05 0 2.83L4 21.41c.39.39.9.59 1.41.59.51 0 1.02-.2 1.41-.59l7.78-7.78 2.81-2.81c.8-.78.8-2.07 0-2.86zM5.41 20L4 18.59l7.72-7.72 1.47 1.35L5.41 20z\"/>\n",
              "  </svg>\n",
              "      </button>\n",
              "      \n",
              "  <style>\n",
              "    .colab-df-container {\n",
              "      display:flex;\n",
              "      flex-wrap:wrap;\n",
              "      gap: 12px;\n",
              "    }\n",
              "\n",
              "    .colab-df-convert {\n",
              "      background-color: #E8F0FE;\n",
              "      border: none;\n",
              "      border-radius: 50%;\n",
              "      cursor: pointer;\n",
              "      display: none;\n",
              "      fill: #1967D2;\n",
              "      height: 32px;\n",
              "      padding: 0 0 0 0;\n",
              "      width: 32px;\n",
              "    }\n",
              "\n",
              "    .colab-df-convert:hover {\n",
              "      background-color: #E2EBFA;\n",
              "      box-shadow: 0px 1px 2px rgba(60, 64, 67, 0.3), 0px 1px 3px 1px rgba(60, 64, 67, 0.15);\n",
              "      fill: #174EA6;\n",
              "    }\n",
              "\n",
              "    [theme=dark] .colab-df-convert {\n",
              "      background-color: #3B4455;\n",
              "      fill: #D2E3FC;\n",
              "    }\n",
              "\n",
              "    [theme=dark] .colab-df-convert:hover {\n",
              "      background-color: #434B5C;\n",
              "      box-shadow: 0px 1px 3px 1px rgba(0, 0, 0, 0.15);\n",
              "      filter: drop-shadow(0px 1px 2px rgba(0, 0, 0, 0.3));\n",
              "      fill: #FFFFFF;\n",
              "    }\n",
              "  </style>\n",
              "\n",
              "      <script>\n",
              "        const buttonEl =\n",
              "          document.querySelector('#df-710426e8-be6d-494d-804a-c421601c5c4c button.colab-df-convert');\n",
              "        buttonEl.style.display =\n",
              "          google.colab.kernel.accessAllowed ? 'block' : 'none';\n",
              "\n",
              "        async function convertToInteractive(key) {\n",
              "          const element = document.querySelector('#df-710426e8-be6d-494d-804a-c421601c5c4c');\n",
              "          const dataTable =\n",
              "            await google.colab.kernel.invokeFunction('convertToInteractive',\n",
              "                                                     [key], {});\n",
              "          if (!dataTable) return;\n",
              "\n",
              "          const docLinkHtml = 'Like what you see? Visit the ' +\n",
              "            '<a target=\"_blank\" href=https://colab.research.google.com/notebooks/data_table.ipynb>data table notebook</a>'\n",
              "            + ' to learn more about interactive tables.';\n",
              "          element.innerHTML = '';\n",
              "          dataTable['output_type'] = 'display_data';\n",
              "          await google.colab.output.renderOutput(dataTable, element);\n",
              "          const docLink = document.createElement('div');\n",
              "          docLink.innerHTML = docLinkHtml;\n",
              "          element.appendChild(docLink);\n",
              "        }\n",
              "      </script>\n",
              "    </div>\n",
              "  </div>\n",
              "  "
            ]
          },
          "metadata": {},
          "execution_count": 20
        }
      ]
    },
    {
      "cell_type": "code",
      "source": [
        "data_filtering.to_csv(\"data_filtering.csv\", index=False, header=True)"
      ],
      "metadata": {
        "id": "AFELOduhfAor"
      },
      "execution_count": null,
      "outputs": []
    },
    {
      "cell_type": "code",
      "source": [
        "# Genre distribution\n",
        "data_filtering['name_attraction_cat'].value_counts().plot(x = 'name_attraction_cat', y ='count', kind = 'bar', figsize = (10,5))\n",
        ""
      ],
      "metadata": {
        "colab": {
          "base_uri": "https://localhost:8080/",
          "height": 566
        },
        "id": "KOGbkjRfJ-bT",
        "outputId": "fde1795b-097a-4279-80ff-2c45241716de"
      },
      "execution_count": null,
      "outputs": [
        {
          "output_type": "execute_result",
          "data": {
            "text/plain": [
              "<Axes: >"
            ]
          },
          "metadata": {},
          "execution_count": 22
        },
        {
          "output_type": "display_data",
          "data": {
            "text/plain": [
              "<Figure size 1000x500 with 1 Axes>"
            ],
            "image/png": "[encoded data removed]"
          },
          "metadata": {}
        }
      ]
    },
    {
      "cell_type": "code",
      "source": [
        "\n",
        "#Converting text descriptions into vectors using TF-IDF using Trigram\n",
        "tf = TfidfVectorizer(ngram_range=(3, 3), stop_words='english', lowercase = False)\n",
        "tfidf_matrix = tf.fit_transform(data_filtering['name_attraction'])\n",
        "total_words = tfidf_matrix.sum(axis=0)\n",
        "#Finding the word frequency\n",
        "freq = [(word, total_words[0, idx]) for word, idx in tf.vocabulary_.items()]\n",
        "freq =sorted(freq, key = lambda x: x[1], reverse=True)#converting into dataframe\n",
        "trigram = pd.DataFrame(freq)\n",
        "trigram.rename(columns = {0:'trigram', 1: 'count'}, inplace = True)\n",
        "#Taking first 20 records\n",
        "trigram = trigram.head(20)\n",
        "\n",
        "#Plotting the trigramn distribution\n",
        "trigram.plot(x ='trigram', y='count', kind = 'bar', title = \"Trigram disribution top 20 words Place Name\", figsize = (15,7), )\n",
        ""
      ],
      "metadata": {
        "colab": {
          "base_uri": "https://localhost:8080/",
          "height": 565
        },
        "id": "l6DK4xD5Mo7V",
        "outputId": "026d5148-1756-40cd-887b-282916350407"
      },
      "execution_count": null,
      "outputs": [
        {
          "output_type": "execute_result",
          "data": {
            "text/plain": [
              "<Axes: title={'center': 'Trigram disribution top 20 words Place Name'}, xlabel='trigram'>"
            ]
          },
          "metadata": {},
          "execution_count": 24
        },
        {
          "output_type": "display_data",
          "data": {
            "text/plain": [
              "<Figure size 1500x700 with 1 Axes>"
            ],
            "image/png": "[encoded data removed]"
          },
          "metadata": {}
        }
      ]
    },
    {
      "cell_type": "code",
      "source": [
        "vectors = tfidf.fit_transform(data_filtering['Content']).toarray()\n",
        "vectors"
      ],
      "metadata": {
        "colab": {
          "base_uri": "https://localhost:8080/"
        },
        "id": "niviGrij3CSW",
        "outputId": "8ef15122-1bd2-45b8-a7ee-31b687bc1cf9"
      },
      "execution_count": null,
      "outputs": [
        {
          "output_type": "execute_result",
          "data": {
            "text/plain": [
              "array([[0.       , 0.       , 0.       , ..., 0.       , 0.       ,\n",
              "        0.       ],\n",
              "       [0.       , 0.       , 0.       , ..., 0.       , 0.       ,\n",
              "        0.       ],\n",
              "       [0.1695384, 0.       , 0.       , ..., 0.       , 0.       ,\n",
              "        0.       ],\n",
              "       ...,\n",
              "       [0.       , 0.       , 0.       , ..., 0.       , 0.       ,\n",
              "        0.       ],\n",
              "       [0.       , 0.       , 0.       , ..., 0.       , 0.       ,\n",
              "        0.       ],\n",
              "       [0.       , 0.       , 0.       , ..., 0.       , 0.       ,\n",
              "        0.       ]])"
            ]
          },
          "metadata": {},
          "execution_count": 25
        }
      ]
    },
    {
      "cell_type": "code",
      "source": [
        "similarity = cosine_similarity(vectors)\n",
        "similarity[0][1:10]"
      ],
      "metadata": {
        "colab": {
          "base_uri": "https://localhost:8080/"
        },
        "id": "Gw4i3aQl3ZIB",
        "outputId": "72c4401a-7889-405f-f9f3-079c994657db"
      },
      "execution_count": null,
      "outputs": [
        {
          "output_type": "execute_result",
          "data": {
            "text/plain": [
              "array([0.18972463, 0.02219708, 0.01497397, 0.03670526, 0.46922383,\n",
              "       0.14892283, 0.17618366, 0.02137544, 0.10129037])"
            ]
          },
          "metadata": {},
          "execution_count": 26
        }
      ]
    },
    {
      "cell_type": "code",
      "source": [
        "def recommend_filtering(nama_tempat):\n",
        "    # Get the pairwsie similarity scores of all place name with given place name\n",
        "    nama_tempat_index = data_filtering[data_filtering['name_attraction']==nama_tempat].index[0]\n",
        "    distancess = similarity[nama_tempat_index]\n",
        "    # Sort place based on the similarity scores\n",
        "    nama_tempat_list = sorted(list(enumerate(distancess)),key=lambda x: x[1],reverse=True)[1:20]\n",
        "\n",
        "    recommended_nama_tempats = []\n",
        "    for i in nama_tempat_list:\n",
        "        recommended_nama_tempats.append([data_filtering.iloc[i[0]].name_attraction]+[i[1]])\n",
        "        # print(nama_tempats.iloc[i[0]].original_title)\n",
        "\n",
        "    return recommended_nama_tempats"
      ],
      "metadata": {
        "id": "UY17gAqb2p1v"
      },
      "execution_count": null,
      "outputs": []
    },
    {
      "cell_type": "code",
      "source": [
        "recommend_filtering('Pantai Watu Kodok')"
      ],
      "metadata": {
        "colab": {
          "base_uri": "https://localhost:8080/"
        },
        "id": "oPyCcKhg3gzb",
        "outputId": "8ad1a537-c36a-46d0-d2ea-e3b5d84e8907"
      },
      "execution_count": null,
      "outputs": [
        {
          "output_type": "execute_result",
          "data": {
            "text/plain": [
              "[['Pantai Kukup', 0.5659440531411729],\n",
              " ['Pantai Timang', 0.5185433503874808],\n",
              " ['Pantai Drini', 0.5034916444153296],\n",
              " ['Pantai Ngandong', 0.48939744234953786],\n",
              " ['Pantai Sundak', 0.4855410205632306],\n",
              " ['Pantai Ngrawe (Mesra)', 0.4655150705971857],\n",
              " ['Pantai Sadranan', 0.449062834411672],\n",
              " ['Pantai Jungwok', 0.42546650148837023],\n",
              " ['Pantai Cipta', 0.4101023347137378],\n",
              " ['Pantai Glagah', 0.3757216172666508],\n",
              " ['Pantai Nglambor', 0.36837311443087445],\n",
              " ['Pantai Congot', 0.34904230497896804],\n",
              " ['Pantai Pok Tunggal', 0.34384697708420525],\n",
              " ['Pantai Kesirat', 0.3383368340812807],\n",
              " ['Pantai Sedahan', 0.33818120552195025],\n",
              " ['Pantai Ancol', 0.3376499329941046],\n",
              " ['Pantai Sanglen', 0.33675445374563584],\n",
              " ['Pantai Goa Cemara', 0.3341901007750466],\n",
              " ['Pantai Indrayanti', 0.334168070919927]]"
            ]
          },
          "metadata": {},
          "execution_count": 33
        }
      ]
    },
    {
      "cell_type": "code",
      "source": [
        "# Simpan model ke dalam file\n",
        "model_file = 'content_based_model.pkl'\n",
        "with open(model_file, 'wb') as file:\n",
        "    pickle.dump(similarity, file)"
      ],
      "metadata": {
        "id": "joLD1PX8O4PU"
      },
      "execution_count": null,
      "outputs": []
    }
  ]
}