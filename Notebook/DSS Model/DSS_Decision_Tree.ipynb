{
  "nbformat": 4,
  "nbformat_minor": 0,
  "metadata": {
    "colab": {
      "provenance": []
    },
    "kernelspec": {
      "name": "python3",
      "display_name": "Python 3"
    },
    "language_info": {
      "name": "python"
    }
  },
  "cells": [
    {
      "cell_type": "code",
      "source": [
        "!pip install category_encoders"
      ],
      "metadata": {
        "colab": {
          "base_uri": "https://localhost:8080/"
        },
        "id": "D0hOC1E23M0D",
        "outputId": "cbe0a9e1-898c-48e6-9bd7-790610378d63"
      },
      "execution_count": null,
      "outputs": [
        {
          "output_type": "stream",
          "name": "stdout",
          "text": [
            "Looking in indexes: https://pypi.org/simple, https://us-python.pkg.dev/colab-wheels/public/simple/\n",
            "Requirement already satisfied: category_encoders in /usr/local/lib/python3.10/dist-packages (2.6.1)\n",
            "Requirement already satisfied: numpy>=1.14.0 in /usr/local/lib/python3.10/dist-packages (from category_encoders) (1.22.4)\n",
            "Requirement already satisfied: scikit-learn>=0.20.0 in /usr/local/lib/python3.10/dist-packages (from category_encoders) (1.2.2)\n",
            "Requirement already satisfied: scipy>=1.0.0 in /usr/local/lib/python3.10/dist-packages (from category_encoders) (1.10.1)\n",
            "Requirement already satisfied: statsmodels>=0.9.0 in /usr/local/lib/python3.10/dist-packages (from category_encoders) (0.13.5)\n",
            "Requirement already satisfied: pandas>=1.0.5 in /usr/local/lib/python3.10/dist-packages (from category_encoders) (1.5.3)\n",
            "Requirement already satisfied: patsy>=0.5.1 in /usr/local/lib/python3.10/dist-packages (from category_encoders) (0.5.3)\n",
            "Requirement already satisfied: python-dateutil>=2.8.1 in /usr/local/lib/python3.10/dist-packages (from pandas>=1.0.5->category_encoders) (2.8.2)\n",
            "Requirement already satisfied: pytz>=2020.1 in /usr/local/lib/python3.10/dist-packages (from pandas>=1.0.5->category_encoders) (2022.7.1)\n",
            "Requirement already satisfied: six in /usr/local/lib/python3.10/dist-packages (from patsy>=0.5.1->category_encoders) (1.16.0)\n",
            "Requirement already satisfied: joblib>=1.1.1 in /usr/local/lib/python3.10/dist-packages (from scikit-learn>=0.20.0->category_encoders) (1.2.0)\n",
            "Requirement already satisfied: threadpoolctl>=2.0.0 in /usr/local/lib/python3.10/dist-packages (from scikit-learn>=0.20.0->category_encoders) (3.1.0)\n",
            "Requirement already satisfied: packaging>=21.3 in /usr/local/lib/python3.10/dist-packages (from statsmodels>=0.9.0->category_encoders) (23.1)\n"
          ]
        }
      ]
    },
    {
      "cell_type": "code",
      "execution_count": null,
      "metadata": {
        "id": "70jp65bu2GM-"
      },
      "outputs": [],
      "source": [
        "import pandas as pd\n",
        "from sklearn.tree import DecisionTreeClassifier\n",
        "from sklearn.preprocessing import OneHotEncoder\n",
        "import category_encoders as ce"
      ]
    },
    {
      "cell_type": "code",
      "source": [
        "# Membaca data tempat wisata dan atribut-atributnya\n",
        "df = pd.read_csv(\"tourism_with_id.csv\")\n",
        "df = df[[\"id_attraction\",\"name_attraction\",\"name_attraction_cat\",\"name_city\",\"price_attraction\",\"rating_avg_attraction\"]]\n",
        "print(df.head())\n"
      ],
      "metadata": {
        "colab": {
          "base_uri": "https://localhost:8080/"
        },
        "id": "SrX88TYG2OTV",
        "outputId": "5e601301-36b4-485e-9022-32fca768d093"
      },
      "execution_count": null,
      "outputs": [
        {
          "output_type": "stream",
          "name": "stdout",
          "text": [
            "   id_attraction          name_attraction name_attraction_cat  \\\n",
            "0              6  Taman Impian Jaya Ancol       Taman Hiburan   \n",
            "1             47       Taman Situ Lembang       Taman Hiburan   \n",
            "2             66     Museum Layang-layang              Budaya   \n",
            "3              1         Monumen Nasional              Budaya   \n",
            "4              2                 Kota Tua              Budaya   \n",
            "\n",
            "         name_city  price_attraction  rating_avg_attraction  \n",
            "0    Jakarta Utara             25000                    4.5  \n",
            "1    Jakarta Pusat                 0                    4.5  \n",
            "2  Jakarta Selatan             10000                    4.5  \n",
            "3    Jakarta Pusat             20000                    4.6  \n",
            "4    Jakarta Barat                 0                    4.6  \n"
          ]
        }
      ]
    },
    {
      "cell_type": "code",
      "source": [
        "# encode variables with ordinal encoding\n",
        "data = df.copy()\n",
        "encoder = ce.OrdinalEncoder(cols=[\"name_attraction_cat\", \"name_city\"])\n",
        "data = encoder.fit_transform(data)"
      ],
      "metadata": {
        "id": "nZwk21rs2Qbv"
      },
      "execution_count": null,
      "outputs": []
    },
    {
      "cell_type": "code",
      "source": [
        "# Menentukan fitur (atribut) dan target\n",
        "fitur = [\"rating_avg_attraction\", \"name_attraction_cat\", \"price_attraction\", \"name_city\"]\n",
        "target = \"id_attraction\"\n",
        "\n",
        "X = data[fitur]\n",
        "y = data[target]"
      ],
      "metadata": {
        "id": "3XxjHlpm2Su2"
      },
      "execution_count": null,
      "outputs": []
    },
    {
      "cell_type": "code",
      "source": [
        "# split X and y into training and testing sets\n",
        "from sklearn.model_selection import train_test_split\n",
        "\n",
        "X_train, X_test, y_train, y_test = train_test_split(\n",
        "    X, y, test_size=0.2, random_state=42\n",
        ")"
      ],
      "metadata": {
        "id": "zYLh1Gh12WC5"
      },
      "execution_count": null,
      "outputs": []
    },
    {
      "cell_type": "code",
      "source": [
        "# check the shape of X_train and X_test\n",
        "X_train.shape, X_test.shape\n",
        "print(X_train.head(100))"
      ],
      "metadata": {
        "colab": {
          "base_uri": "https://localhost:8080/"
        },
        "id": "30qGIBOD2ZR5",
        "outputId": "23ad5d0f-4b37-401c-ca43-7215f5b0c988"
      },
      "execution_count": null,
      "outputs": [
        {
          "output_type": "stream",
          "name": "stdout",
          "text": [
            "     rating_avg_attraction  name_attraction_cat  price_attraction  name_city\n",
            "265                    4.8                    6                 0          8\n",
            "405                    4.2                    1             35000         10\n",
            "31                     4.5                    1             35000          5\n",
            "84                     4.7                    5                 0          2\n",
            "299                    4.1                    3                 0          8\n",
            "..                     ...                  ...               ...        ...\n",
            "10                     4.4                    4            175000          1\n",
            "231                    4.5                    2              3000          8\n",
            "103                    4.0                    2                 0          7\n",
            "81                     4.4                    2             20000          7\n",
            "249                    4.4                    3             10000          8\n",
            "\n",
            "[100 rows x 4 columns]\n"
          ]
        }
      ]
    },
    {
      "cell_type": "code",
      "source": [
        "from sklearn.tree import DecisionTreeClassifier\n",
        "model = DecisionTreeClassifier()\n",
        "\n",
        "# fit the model\n",
        "model.fit(X_train, y_train)"
      ],
      "metadata": {
        "colab": {
          "base_uri": "https://localhost:8080/",
          "height": 74
        },
        "id": "smrOIdEW2cpA",
        "outputId": "bb441395-dde7-4991-c002-6d90a6c1d581"
      },
      "execution_count": null,
      "outputs": [
        {
          "output_type": "execute_result",
          "data": {
            "text/plain": [
              "DecisionTreeClassifier()"
            ],
            "text/html": [
              "<style>#sk-container-id-2 {color: black;background-color: white;}#sk-container-id-2 pre{padding: 0;}#sk-container-id-2 div.sk-toggleable {background-color: white;}#sk-container-id-2 label.sk-toggleable__label {cursor: pointer;display: block;width: 100%;margin-bottom: 0;padding: 0.3em;box-sizing: border-box;text-align: center;}#sk-container-id-2 label.sk-toggleable__label-arrow:before {content: \"▸\";float: left;margin-right: 0.25em;color: #696969;}#sk-container-id-2 label.sk-toggleable__label-arrow:hover:before {color: black;}#sk-container-id-2 div.sk-estimator:hover label.sk-toggleable__label-arrow:before {color: black;}#sk-container-id-2 div.sk-toggleable__content {max-height: 0;max-width: 0;overflow: hidden;text-align: left;background-color: #f0f8ff;}#sk-container-id-2 div.sk-toggleable__content pre {margin: 0.2em;color: black;border-radius: 0.25em;background-color: #f0f8ff;}#sk-container-id-2 input.sk-toggleable__control:checked~div.sk-toggleable__content {max-height: 200px;max-width: 100%;overflow: auto;}#sk-container-id-2 input.sk-toggleable__control:checked~label.sk-toggleable__label-arrow:before {content: \"▾\";}#sk-container-id-2 div.sk-estimator input.sk-toggleable__control:checked~label.sk-toggleable__label {background-color: #d4ebff;}#sk-container-id-2 div.sk-label input.sk-toggleable__control:checked~label.sk-toggleable__label {background-color: #d4ebff;}#sk-container-id-2 input.sk-hidden--visually {border: 0;clip: rect(1px 1px 1px 1px);clip: rect(1px, 1px, 1px, 1px);height: 1px;margin: -1px;overflow: hidden;padding: 0;position: absolute;width: 1px;}#sk-container-id-2 div.sk-estimator {font-family: monospace;background-color: #f0f8ff;border: 1px dotted black;border-radius: 0.25em;box-sizing: border-box;margin-bottom: 0.5em;}#sk-container-id-2 div.sk-estimator:hover {background-color: #d4ebff;}#sk-container-id-2 div.sk-parallel-item::after {content: \"\";width: 100%;border-bottom: 1px solid gray;flex-grow: 1;}#sk-container-id-2 div.sk-label:hover label.sk-toggleable__label {background-color: #d4ebff;}#sk-container-id-2 div.sk-serial::before {content: \"\";position: absolute;border-left: 1px solid gray;box-sizing: border-box;top: 0;bottom: 0;left: 50%;z-index: 0;}#sk-container-id-2 div.sk-serial {display: flex;flex-direction: column;align-items: center;background-color: white;padding-right: 0.2em;padding-left: 0.2em;position: relative;}#sk-container-id-2 div.sk-item {position: relative;z-index: 1;}#sk-container-id-2 div.sk-parallel {display: flex;align-items: stretch;justify-content: center;background-color: white;position: relative;}#sk-container-id-2 div.sk-item::before, #sk-container-id-2 div.sk-parallel-item::before {content: \"\";position: absolute;border-left: 1px solid gray;box-sizing: border-box;top: 0;bottom: 0;left: 50%;z-index: -1;}#sk-container-id-2 div.sk-parallel-item {display: flex;flex-direction: column;z-index: 1;position: relative;background-color: white;}#sk-container-id-2 div.sk-parallel-item:first-child::after {align-self: flex-end;width: 50%;}#sk-container-id-2 div.sk-parallel-item:last-child::after {align-self: flex-start;width: 50%;}#sk-container-id-2 div.sk-parallel-item:only-child::after {width: 0;}#sk-container-id-2 div.sk-dashed-wrapped {border: 1px dashed gray;margin: 0 0.4em 0.5em 0.4em;box-sizing: border-box;padding-bottom: 0.4em;background-color: white;}#sk-container-id-2 div.sk-label label {font-family: monospace;font-weight: bold;display: inline-block;line-height: 1.2em;}#sk-container-id-2 div.sk-label-container {text-align: center;}#sk-container-id-2 div.sk-container {/* jupyter's `normalize.less` sets `[hidden] { display: none; }` but bootstrap.min.css set `[hidden] { display: none !important; }` so we also need the `!important` here to be able to override the default hidden behavior on the sphinx rendered scikit-learn.org. See: https://github.com/scikit-learn/scikit-learn/issues/21755 */display: inline-block !important;position: relative;}#sk-container-id-2 div.sk-text-repr-fallback {display: none;}</style><div id=\"sk-container-id-2\" class=\"sk-top-container\"><div class=\"sk-text-repr-fallback\"><pre>DecisionTreeClassifier()</pre><b>In a Jupyter environment, please rerun this cell to show the HTML representation or trust the notebook. <br />On GitHub, the HTML representation is unable to render, please try loading this page with nbviewer.org.</b></div><div class=\"sk-container\" hidden><div class=\"sk-item\"><div class=\"sk-estimator sk-toggleable\"><input class=\"sk-toggleable__control sk-hidden--visually\" id=\"sk-estimator-id-2\" type=\"checkbox\" checked><label for=\"sk-estimator-id-2\" class=\"sk-toggleable__label sk-toggleable__label-arrow\">DecisionTreeClassifier</label><div class=\"sk-toggleable__content\"><pre>DecisionTreeClassifier()</pre></div></div></div></div></div>"
            ]
          },
          "metadata": {},
          "execution_count": 20
        }
      ]
    },
    {
      "cell_type": "code",
      "source": [
        "# Mengambil input dari pengguna\n",
        "rating_avg_attraction = float(input(\"Masukkan rating (dalam skala 1-5): \"))\n",
        "name_attraction_cat = input(\"Masukkan kategori: \")\n",
        "price_attraction = float(input(\"Masukkan harga (dalam rupiah): \"))\n",
        "name_city = input(\"Masukkan kota: \")"
      ],
      "metadata": {
        "colab": {
          "base_uri": "https://localhost:8080/"
        },
        "id": "z84Zglza2jEg",
        "outputId": "c6a0a422-697c-410e-82d7-1de7d005e650"
      },
      "execution_count": null,
      "outputs": [
        {
          "name": "stdout",
          "output_type": "stream",
          "text": [
            "Masukkan rating (dalam skala 1-5): 5\n",
            "Masukkan kategori: 3\n",
            "Masukkan harga (dalam rupiah): 3000\n",
            "Masukkan kota: 2\n"
          ]
        }
      ]
    },
    {
      "cell_type": "code",
      "source": [
        "# Membuat DataFrame dengan input pengguna\n",
        "input_data = pd.DataFrame(\n",
        "    {\"rating_avg_attraction\": [rating_avg_attraction], \"name_attraction_cat\": [name_attraction_cat], \"price_attraction\": [price_attraction], \"name_city\": [name_city]}\n",
        ")\n",
        "hasil_prediksi = model.predict(input_data)\n",
        "print(\"Nama Tempat Prediksi: \\n\", df[df[\"id_attraction\"] == hasil_prediksi[0]])"
      ],
      "metadata": {
        "colab": {
          "base_uri": "https://localhost:8080/"
        },
        "id": "QOdlTg_s2oQ7",
        "outputId": "25b47a19-617f-4585-f043-a05dcca21bee"
      },
      "execution_count": null,
      "outputs": [
        {
          "output_type": "stream",
          "name": "stdout",
          "text": [
            "Nama Tempat Prediksi: \n",
            "     id_attraction       name_attraction name_attraction_cat      name_city  \\\n",
            "62             59  Museum Sumpah Pemuda              Budaya  Jakarta Pusat   \n",
            "\n",
            "    price_attraction  rating_avg_attraction  \n",
            "62              2000                    4.7  \n"
          ]
        }
      ]
    },
    {
      "cell_type": "code",
      "source": [
        "# from sklearn.metrics import accuracy_score\n",
        "from sklearn.metrics import r2_score\n",
        "\n",
        "# # Memprediksi nilai target menggunakan data uji\n",
        "y_pred = model.predict(X_test)\n",
        "print(\"Accuracy tree is\", r2_score(y_test, y_pred) * 100)\n"
      ],
      "metadata": {
        "colab": {
          "base_uri": "https://localhost:8080/"
        },
        "id": "Zlm7NkI-2uye",
        "outputId": "77cbd180-f0f6-4004-98e6-fd436cf0a136"
      },
      "execution_count": null,
      "outputs": [
        {
          "output_type": "stream",
          "name": "stdout",
          "text": [
            "Accuracy tree is 85.92736823068259\n"
          ]
        }
      ]
    },
    {
      "cell_type": "code",
      "source": [
        "import pickle\n",
        "# Menyimpan model ke file\n",
        "with open('decision_tree_model.pkl', 'wb') as file:\n",
        "    pickle.dump(model, file)"
      ],
      "metadata": {
        "id": "_aYI-Ko6M23D"
      },
      "execution_count": null,
      "outputs": []
    },
    {
      "cell_type": "code",
      "source": [
        "# Memuat kembali model dari file\n",
        "with open('decision_tree_model.pkl', 'rb') as file:\n",
        "    loaded_model = pickle.load(file)\n",
        "\n",
        "# Menggunakan model yang telah dimuat untuk melakukan prediksi\n",
        "y_pred = loaded_model.predict(X_test)"
      ],
      "metadata": {
        "id": "IrA9ZaZYM7ys"
      },
      "execution_count": null,
      "outputs": []
    }
  ]
}