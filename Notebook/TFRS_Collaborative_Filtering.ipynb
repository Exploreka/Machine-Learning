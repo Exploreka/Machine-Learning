{
  "nbformat": 4,
  "nbformat_minor": 0,
  "metadata": {
    "colab": {
      "provenance": []
    },
    "kernelspec": {
      "name": "python3",
      "display_name": "Python 3"
    },
    "language_info": {
      "name": "python"
    }
  },
  "cells": [
    {
      "cell_type": "code",
      "execution_count": null,
      "metadata": {
        "id": "kO5GKaR8gyQM"
      },
      "outputs": [],
      "source": [
        "pip install -q tensorflow-recommenders"
      ]
    },
    {
      "cell_type": "code",
      "source": [
        "import os\n",
        "import pprint\n",
        "import tempfile\n",
        "\n",
        "from typing import Dict, Text\n",
        "\n",
        "import matplotlib.pyplot as plt\n",
        "from mpl_toolkits.axes_grid1 import make_axes_locatable\n",
        "import numpy as np\n",
        "from datetime import datetime\n",
        "import pandas as pd\n",
        "import tensorflow as tf\n",
        "from tensorflow import keras\n",
        "\n",
        "import tensorflow_recommenders as tfrs\n"
      ],
      "metadata": {
        "id": "ojrpY3jvhFgy"
      },
      "execution_count": null,
      "outputs": []
    },
    {
      "cell_type": "code",
      "source": [
        "tourism_rating = pd.read_csv('tourism_rating_edit.csv')\n",
        "print(tourism_rating.info())"
      ],
      "metadata": {
        "colab": {
          "base_uri": "https://localhost:8080/"
        },
        "id": "PjQByp1lhM_x",
        "outputId": "9b4eaa17-7d32-42a0-e20c-7b64c677898f"
      },
      "execution_count": null,
      "outputs": [
        {
          "output_type": "stream",
          "name": "stdout",
          "text": [
            "<class 'pandas.core.frame.DataFrame'>\n",
            "RangeIndex: 10000 entries, 0 to 9999\n",
            "Data columns (total 4 columns):\n",
            " #   Column         Non-Null Count  Dtype \n",
            "---  ------         --------------  ----- \n",
            " 0   User_Id        10000 non-null  int64 \n",
            " 1   Place_Id       10000 non-null  int64 \n",
            " 2   Place_Name     10000 non-null  object\n",
            " 3   Place_Ratings  10000 non-null  int64 \n",
            "dtypes: int64(3), object(1)\n",
            "memory usage: 312.6+ KB\n",
            "None\n"
          ]
        }
      ]
    },
    {
      "cell_type": "code",
      "source": [
        "tourism_rating.head()"
      ],
      "metadata": {
        "colab": {
          "base_uri": "https://localhost:8080/",
          "height": 206
        },
        "id": "RWKb7irWkTR0",
        "outputId": "052ce622-7302-4e1d-cad5-58a764bab62f"
      },
      "execution_count": null,
      "outputs": [
        {
          "output_type": "execute_result",
          "data": {
            "text/plain": [
              "   User_Id  Place_Id                     Place_Name  Place_Ratings\n",
              "0        1       179                Candi Ratu Boko              3\n",
              "1        1       344                  Pantai Marina              2\n",
              "2        1         5       Atlantis Water Adventure              5\n",
              "3        1       373         Museum Kereta Ambarawa              3\n",
              "4        1       101  Kampung Wisata Sosro Menduran              4"
            ],
            "text/html": [
              "\n",
              "  <div id=\"df-32220abf-5339-4673-887c-b1b4bebd6458\">\n",
              "    <div class=\"colab-df-container\">\n",
              "      <div>\n",
              "<style scoped>\n",
              "    .dataframe tbody tr th:only-of-type {\n",
              "        vertical-align: middle;\n",
              "    }\n",
              "\n",
              "    .dataframe tbody tr th {\n",
              "        vertical-align: top;\n",
              "    }\n",
              "\n",
              "    .dataframe thead th {\n",
              "        text-align: right;\n",
              "    }\n",
              "</style>\n",
              "<table border=\"1\" class=\"dataframe\">\n",
              "  <thead>\n",
              "    <tr style=\"text-align: right;\">\n",
              "      <th></th>\n",
              "      <th>User_Id</th>\n",
              "      <th>Place_Id</th>\n",
              "      <th>Place_Name</th>\n",
              "      <th>Place_Ratings</th>\n",
              "    </tr>\n",
              "  </thead>\n",
              "  <tbody>\n",
              "    <tr>\n",
              "      <th>0</th>\n",
              "      <td>1</td>\n",
              "      <td>179</td>\n",
              "      <td>Candi Ratu Boko</td>\n",
              "      <td>3</td>\n",
              "    </tr>\n",
              "    <tr>\n",
              "      <th>1</th>\n",
              "      <td>1</td>\n",
              "      <td>344</td>\n",
              "      <td>Pantai Marina</td>\n",
              "      <td>2</td>\n",
              "    </tr>\n",
              "    <tr>\n",
              "      <th>2</th>\n",
              "      <td>1</td>\n",
              "      <td>5</td>\n",
              "      <td>Atlantis Water Adventure</td>\n",
              "      <td>5</td>\n",
              "    </tr>\n",
              "    <tr>\n",
              "      <th>3</th>\n",
              "      <td>1</td>\n",
              "      <td>373</td>\n",
              "      <td>Museum Kereta Ambarawa</td>\n",
              "      <td>3</td>\n",
              "    </tr>\n",
              "    <tr>\n",
              "      <th>4</th>\n",
              "      <td>1</td>\n",
              "      <td>101</td>\n",
              "      <td>Kampung Wisata Sosro Menduran</td>\n",
              "      <td>4</td>\n",
              "    </tr>\n",
              "  </tbody>\n",
              "</table>\n",
              "</div>\n",
              "      <button class=\"colab-df-convert\" onclick=\"convertToInteractive('df-32220abf-5339-4673-887c-b1b4bebd6458')\"\n",
              "              title=\"Convert this dataframe to an interactive table.\"\n",
              "              style=\"display:none;\">\n",
              "        \n",
              "  <svg xmlns=\"http://www.w3.org/2000/svg\" height=\"24px\"viewBox=\"0 0 24 24\"\n",
              "       width=\"24px\">\n",
              "    <path d=\"M0 0h24v24H0V0z\" fill=\"none\"/>\n",
              "    <path d=\"M18.56 5.44l.94 2.06.94-2.06 2.06-.94-2.06-.94-.94-2.06-.94 2.06-2.06.94zm-11 1L8.5 8.5l.94-2.06 2.06-.94-2.06-.94L8.5 2.5l-.94 2.06-2.06.94zm10 10l.94 2.06.94-2.06 2.06-.94-2.06-.94-.94-2.06-.94 2.06-2.06.94z\"/><path d=\"M17.41 7.96l-1.37-1.37c-.4-.4-.92-.59-1.43-.59-.52 0-1.04.2-1.43.59L10.3 9.45l-7.72 7.72c-.78.78-.78 2.05 0 2.83L4 21.41c.39.39.9.59 1.41.59.51 0 1.02-.2 1.41-.59l7.78-7.78 2.81-2.81c.8-.78.8-2.07 0-2.86zM5.41 20L4 18.59l7.72-7.72 1.47 1.35L5.41 20z\"/>\n",
              "  </svg>\n",
              "      </button>\n",
              "      \n",
              "  <style>\n",
              "    .colab-df-container {\n",
              "      display:flex;\n",
              "      flex-wrap:wrap;\n",
              "      gap: 12px;\n",
              "    }\n",
              "\n",
              "    .colab-df-convert {\n",
              "      background-color: #E8F0FE;\n",
              "      border: none;\n",
              "      border-radius: 50%;\n",
              "      cursor: pointer;\n",
              "      display: none;\n",
              "      fill: #1967D2;\n",
              "      height: 32px;\n",
              "      padding: 0 0 0 0;\n",
              "      width: 32px;\n",
              "    }\n",
              "\n",
              "    .colab-df-convert:hover {\n",
              "      background-color: #E2EBFA;\n",
              "      box-shadow: 0px 1px 2px rgba(60, 64, 67, 0.3), 0px 1px 3px 1px rgba(60, 64, 67, 0.15);\n",
              "      fill: #174EA6;\n",
              "    }\n",
              "\n",
              "    [theme=dark] .colab-df-convert {\n",
              "      background-color: #3B4455;\n",
              "      fill: #D2E3FC;\n",
              "    }\n",
              "\n",
              "    [theme=dark] .colab-df-convert:hover {\n",
              "      background-color: #434B5C;\n",
              "      box-shadow: 0px 1px 3px 1px rgba(0, 0, 0, 0.15);\n",
              "      filter: drop-shadow(0px 1px 2px rgba(0, 0, 0, 0.3));\n",
              "      fill: #FFFFFF;\n",
              "    }\n",
              "  </style>\n",
              "\n",
              "      <script>\n",
              "        const buttonEl =\n",
              "          document.querySelector('#df-32220abf-5339-4673-887c-b1b4bebd6458 button.colab-df-convert');\n",
              "        buttonEl.style.display =\n",
              "          google.colab.kernel.accessAllowed ? 'block' : 'none';\n",
              "\n",
              "        async function convertToInteractive(key) {\n",
              "          const element = document.querySelector('#df-32220abf-5339-4673-887c-b1b4bebd6458');\n",
              "          const dataTable =\n",
              "            await google.colab.kernel.invokeFunction('convertToInteractive',\n",
              "                                                     [key], {});\n",
              "          if (!dataTable) return;\n",
              "\n",
              "          const docLinkHtml = 'Like what you see? Visit the ' +\n",
              "            '<a target=\"_blank\" href=https://colab.research.google.com/notebooks/data_table.ipynb>data table notebook</a>'\n",
              "            + ' to learn more about interactive tables.';\n",
              "          element.innerHTML = '';\n",
              "          dataTable['output_type'] = 'display_data';\n",
              "          await google.colab.output.renderOutput(dataTable, element);\n",
              "          const docLink = document.createElement('div');\n",
              "          docLink.innerHTML = docLinkHtml;\n",
              "          element.appendChild(docLink);\n",
              "        }\n",
              "      </script>\n",
              "    </div>\n",
              "  </div>\n",
              "  "
            ]
          },
          "metadata": {},
          "execution_count": 55
        }
      ]
    },
    {
      "cell_type": "code",
      "source": [
        "tourism_rating['User_Id'] = tourism_rating['User_Id'].astype(str)\n",
        "tourism_rating['Place_Name'] = tourism_rating['Place_Name'].astype(str)\n",
        "tourism_rating['Place_Ratings'] = tourism_rating['Place_Ratings'].astype(np.float64)"
      ],
      "metadata": {
        "id": "b-G40amJJaj4"
      },
      "execution_count": null,
      "outputs": []
    },
    {
      "cell_type": "code",
      "source": [
        "print(tourism_rating.info())"
      ],
      "metadata": {
        "colab": {
          "base_uri": "https://localhost:8080/"
        },
        "id": "frNYipaxGkvd",
        "outputId": "da84a6e2-6b2a-4785-bb7f-eb1abfb976cb"
      },
      "execution_count": null,
      "outputs": [
        {
          "output_type": "stream",
          "name": "stdout",
          "text": [
            "<class 'pandas.core.frame.DataFrame'>\n",
            "RangeIndex: 10000 entries, 0 to 9999\n",
            "Data columns (total 4 columns):\n",
            " #   Column         Non-Null Count  Dtype  \n",
            "---  ------         --------------  -----  \n",
            " 0   User_Id        10000 non-null  object \n",
            " 1   Place_Id       10000 non-null  int64  \n",
            " 2   Place_Name     10000 non-null  object \n",
            " 3   Place_Ratings  10000 non-null  float64\n",
            "dtypes: float64(1), int64(1), object(2)\n",
            "memory usage: 312.6+ KB\n",
            "None\n"
          ]
        }
      ]
    },
    {
      "cell_type": "code",
      "source": [
        "data_collaborative_filtering = tourism_rating.copy()\n",
        "data_collaborative_filtering"
      ],
      "metadata": {
        "colab": {
          "base_uri": "https://localhost:8080/",
          "height": 423
        },
        "id": "-JWWxW7mhS_Y",
        "outputId": "a9dec53a-5846-48ab-b0bd-013d71c836ab"
      },
      "execution_count": null,
      "outputs": [
        {
          "output_type": "execute_result",
          "data": {
            "text/plain": [
              "     User_Id  Place_Id                         Place_Name  Place_Ratings\n",
              "0          1       179                    Candi Ratu Boko            3.0\n",
              "1          1       344                      Pantai Marina            2.0\n",
              "2          1         5           Atlantis Water Adventure            5.0\n",
              "3          1       373             Museum Kereta Ambarawa            3.0\n",
              "4          1       101      Kampung Wisata Sosro Menduran            4.0\n",
              "...      ...       ...                                ...            ...\n",
              "9995     300       425        Waterpark Kenjeran Surabaya            2.0\n",
              "9996     300        64     Museum Sasmita Loka Ahmad Yani            4.0\n",
              "9997     300       311                 The Lodge Maribaya            3.0\n",
              "9998     300       279  Masjid Agung Trans Studio Bandung            4.0\n",
              "9999     300       163                Watu Mabur Mangunan            2.0\n",
              "\n",
              "[10000 rows x 4 columns]"
            ],
            "text/html": [
              "\n",
              "  <div id=\"df-99b70514-2087-46db-a6f6-fcd410b5d820\">\n",
              "    <div class=\"colab-df-container\">\n",
              "      <div>\n",
              "<style scoped>\n",
              "    .dataframe tbody tr th:only-of-type {\n",
              "        vertical-align: middle;\n",
              "    }\n",
              "\n",
              "    .dataframe tbody tr th {\n",
              "        vertical-align: top;\n",
              "    }\n",
              "\n",
              "    .dataframe thead th {\n",
              "        text-align: right;\n",
              "    }\n",
              "</style>\n",
              "<table border=\"1\" class=\"dataframe\">\n",
              "  <thead>\n",
              "    <tr style=\"text-align: right;\">\n",
              "      <th></th>\n",
              "      <th>User_Id</th>\n",
              "      <th>Place_Id</th>\n",
              "      <th>Place_Name</th>\n",
              "      <th>Place_Ratings</th>\n",
              "    </tr>\n",
              "  </thead>\n",
              "  <tbody>\n",
              "    <tr>\n",
              "      <th>0</th>\n",
              "      <td>1</td>\n",
              "      <td>179</td>\n",
              "      <td>Candi Ratu Boko</td>\n",
              "      <td>3.0</td>\n",
              "    </tr>\n",
              "    <tr>\n",
              "      <th>1</th>\n",
              "      <td>1</td>\n",
              "      <td>344</td>\n",
              "      <td>Pantai Marina</td>\n",
              "      <td>2.0</td>\n",
              "    </tr>\n",
              "    <tr>\n",
              "      <th>2</th>\n",
              "      <td>1</td>\n",
              "      <td>5</td>\n",
              "      <td>Atlantis Water Adventure</td>\n",
              "      <td>5.0</td>\n",
              "    </tr>\n",
              "    <tr>\n",
              "      <th>3</th>\n",
              "      <td>1</td>\n",
              "      <td>373</td>\n",
              "      <td>Museum Kereta Ambarawa</td>\n",
              "      <td>3.0</td>\n",
              "    </tr>\n",
              "    <tr>\n",
              "      <th>4</th>\n",
              "      <td>1</td>\n",
              "      <td>101</td>\n",
              "      <td>Kampung Wisata Sosro Menduran</td>\n",
              "      <td>4.0</td>\n",
              "    </tr>\n",
              "    <tr>\n",
              "      <th>...</th>\n",
              "      <td>...</td>\n",
              "      <td>...</td>\n",
              "      <td>...</td>\n",
              "      <td>...</td>\n",
              "    </tr>\n",
              "    <tr>\n",
              "      <th>9995</th>\n",
              "      <td>300</td>\n",
              "      <td>425</td>\n",
              "      <td>Waterpark Kenjeran Surabaya</td>\n",
              "      <td>2.0</td>\n",
              "    </tr>\n",
              "    <tr>\n",
              "      <th>9996</th>\n",
              "      <td>300</td>\n",
              "      <td>64</td>\n",
              "      <td>Museum Sasmita Loka Ahmad Yani</td>\n",
              "      <td>4.0</td>\n",
              "    </tr>\n",
              "    <tr>\n",
              "      <th>9997</th>\n",
              "      <td>300</td>\n",
              "      <td>311</td>\n",
              "      <td>The Lodge Maribaya</td>\n",
              "      <td>3.0</td>\n",
              "    </tr>\n",
              "    <tr>\n",
              "      <th>9998</th>\n",
              "      <td>300</td>\n",
              "      <td>279</td>\n",
              "      <td>Masjid Agung Trans Studio Bandung</td>\n",
              "      <td>4.0</td>\n",
              "    </tr>\n",
              "    <tr>\n",
              "      <th>9999</th>\n",
              "      <td>300</td>\n",
              "      <td>163</td>\n",
              "      <td>Watu Mabur Mangunan</td>\n",
              "      <td>2.0</td>\n",
              "    </tr>\n",
              "  </tbody>\n",
              "</table>\n",
              "<p>10000 rows × 4 columns</p>\n",
              "</div>\n",
              "      <button class=\"colab-df-convert\" onclick=\"convertToInteractive('df-99b70514-2087-46db-a6f6-fcd410b5d820')\"\n",
              "              title=\"Convert this dataframe to an interactive table.\"\n",
              "              style=\"display:none;\">\n",
              "        \n",
              "  <svg xmlns=\"http://www.w3.org/2000/svg\" height=\"24px\"viewBox=\"0 0 24 24\"\n",
              "       width=\"24px\">\n",
              "    <path d=\"M0 0h24v24H0V0z\" fill=\"none\"/>\n",
              "    <path d=\"M18.56 5.44l.94 2.06.94-2.06 2.06-.94-2.06-.94-.94-2.06-.94 2.06-2.06.94zm-11 1L8.5 8.5l.94-2.06 2.06-.94-2.06-.94L8.5 2.5l-.94 2.06-2.06.94zm10 10l.94 2.06.94-2.06 2.06-.94-2.06-.94-.94-2.06-.94 2.06-2.06.94z\"/><path d=\"M17.41 7.96l-1.37-1.37c-.4-.4-.92-.59-1.43-.59-.52 0-1.04.2-1.43.59L10.3 9.45l-7.72 7.72c-.78.78-.78 2.05 0 2.83L4 21.41c.39.39.9.59 1.41.59.51 0 1.02-.2 1.41-.59l7.78-7.78 2.81-2.81c.8-.78.8-2.07 0-2.86zM5.41 20L4 18.59l7.72-7.72 1.47 1.35L5.41 20z\"/>\n",
              "  </svg>\n",
              "      </button>\n",
              "      \n",
              "  <style>\n",
              "    .colab-df-container {\n",
              "      display:flex;\n",
              "      flex-wrap:wrap;\n",
              "      gap: 12px;\n",
              "    }\n",
              "\n",
              "    .colab-df-convert {\n",
              "      background-color: #E8F0FE;\n",
              "      border: none;\n",
              "      border-radius: 50%;\n",
              "      cursor: pointer;\n",
              "      display: none;\n",
              "      fill: #1967D2;\n",
              "      height: 32px;\n",
              "      padding: 0 0 0 0;\n",
              "      width: 32px;\n",
              "    }\n",
              "\n",
              "    .colab-df-convert:hover {\n",
              "      background-color: #E2EBFA;\n",
              "      box-shadow: 0px 1px 2px rgba(60, 64, 67, 0.3), 0px 1px 3px 1px rgba(60, 64, 67, 0.15);\n",
              "      fill: #174EA6;\n",
              "    }\n",
              "\n",
              "    [theme=dark] .colab-df-convert {\n",
              "      background-color: #3B4455;\n",
              "      fill: #D2E3FC;\n",
              "    }\n",
              "\n",
              "    [theme=dark] .colab-df-convert:hover {\n",
              "      background-color: #434B5C;\n",
              "      box-shadow: 0px 1px 3px 1px rgba(0, 0, 0, 0.15);\n",
              "      filter: drop-shadow(0px 1px 2px rgba(0, 0, 0, 0.3));\n",
              "      fill: #FFFFFF;\n",
              "    }\n",
              "  </style>\n",
              "\n",
              "      <script>\n",
              "        const buttonEl =\n",
              "          document.querySelector('#df-99b70514-2087-46db-a6f6-fcd410b5d820 button.colab-df-convert');\n",
              "        buttonEl.style.display =\n",
              "          google.colab.kernel.accessAllowed ? 'block' : 'none';\n",
              "\n",
              "        async function convertToInteractive(key) {\n",
              "          const element = document.querySelector('#df-99b70514-2087-46db-a6f6-fcd410b5d820');\n",
              "          const dataTable =\n",
              "            await google.colab.kernel.invokeFunction('convertToInteractive',\n",
              "                                                     [key], {});\n",
              "          if (!dataTable) return;\n",
              "\n",
              "          const docLinkHtml = 'Like what you see? Visit the ' +\n",
              "            '<a target=\"_blank\" href=https://colab.research.google.com/notebooks/data_table.ipynb>data table notebook</a>'\n",
              "            + ' to learn more about interactive tables.';\n",
              "          element.innerHTML = '';\n",
              "          dataTable['output_type'] = 'display_data';\n",
              "          await google.colab.output.renderOutput(dataTable, element);\n",
              "          const docLink = document.createElement('div');\n",
              "          docLink.innerHTML = docLinkHtml;\n",
              "          element.appendChild(docLink);\n",
              "        }\n",
              "      </script>\n",
              "    </div>\n",
              "  </div>\n",
              "  "
            ]
          },
          "metadata": {},
          "execution_count": 58
        }
      ]
    },
    {
      "cell_type": "code",
      "source": [
        "print(\"my reviews: \")\n",
        "tourism_rating[tourism_rating['User_Id']==\"2\"].head()"
      ],
      "metadata": {
        "id": "sPRHL38UhiNB",
        "colab": {
          "base_uri": "https://localhost:8080/",
          "height": 223
        },
        "outputId": "e07f0185-94ab-4e5f-b7dd-6ff5dfe4f06b"
      },
      "execution_count": null,
      "outputs": [
        {
          "output_type": "stream",
          "name": "stdout",
          "text": [
            "my reviews: \n"
          ]
        },
        {
          "output_type": "execute_result",
          "data": {
            "text/plain": [
              "   User_Id  Place_Id                       Place_Name  Place_Ratings\n",
              "30       2       147  Bentara Budaya Yogyakarta (BBY)            2.0\n",
              "31       2         2                         Kota Tua            5.0\n",
              "32       2       322                      Bukit Jamur            4.0\n",
              "33       2        23                  Gereja Katedral            3.0\n",
              "34       2        85          Taman Pintar Yogyakarta            4.0"
            ],
            "text/html": [
              "\n",
              "  <div id=\"df-86a2e6c8-d752-4158-bd04-26480b9a4001\">\n",
              "    <div class=\"colab-df-container\">\n",
              "      <div>\n",
              "<style scoped>\n",
              "    .dataframe tbody tr th:only-of-type {\n",
              "        vertical-align: middle;\n",
              "    }\n",
              "\n",
              "    .dataframe tbody tr th {\n",
              "        vertical-align: top;\n",
              "    }\n",
              "\n",
              "    .dataframe thead th {\n",
              "        text-align: right;\n",
              "    }\n",
              "</style>\n",
              "<table border=\"1\" class=\"dataframe\">\n",
              "  <thead>\n",
              "    <tr style=\"text-align: right;\">\n",
              "      <th></th>\n",
              "      <th>User_Id</th>\n",
              "      <th>Place_Id</th>\n",
              "      <th>Place_Name</th>\n",
              "      <th>Place_Ratings</th>\n",
              "    </tr>\n",
              "  </thead>\n",
              "  <tbody>\n",
              "    <tr>\n",
              "      <th>30</th>\n",
              "      <td>2</td>\n",
              "      <td>147</td>\n",
              "      <td>Bentara Budaya Yogyakarta (BBY)</td>\n",
              "      <td>2.0</td>\n",
              "    </tr>\n",
              "    <tr>\n",
              "      <th>31</th>\n",
              "      <td>2</td>\n",
              "      <td>2</td>\n",
              "      <td>Kota Tua</td>\n",
              "      <td>5.0</td>\n",
              "    </tr>\n",
              "    <tr>\n",
              "      <th>32</th>\n",
              "      <td>2</td>\n",
              "      <td>322</td>\n",
              "      <td>Bukit Jamur</td>\n",
              "      <td>4.0</td>\n",
              "    </tr>\n",
              "    <tr>\n",
              "      <th>33</th>\n",
              "      <td>2</td>\n",
              "      <td>23</td>\n",
              "      <td>Gereja Katedral</td>\n",
              "      <td>3.0</td>\n",
              "    </tr>\n",
              "    <tr>\n",
              "      <th>34</th>\n",
              "      <td>2</td>\n",
              "      <td>85</td>\n",
              "      <td>Taman Pintar Yogyakarta</td>\n",
              "      <td>4.0</td>\n",
              "    </tr>\n",
              "  </tbody>\n",
              "</table>\n",
              "</div>\n",
              "      <button class=\"colab-df-convert\" onclick=\"convertToInteractive('df-86a2e6c8-d752-4158-bd04-26480b9a4001')\"\n",
              "              title=\"Convert this dataframe to an interactive table.\"\n",
              "              style=\"display:none;\">\n",
              "        \n",
              "  <svg xmlns=\"http://www.w3.org/2000/svg\" height=\"24px\"viewBox=\"0 0 24 24\"\n",
              "       width=\"24px\">\n",
              "    <path d=\"M0 0h24v24H0V0z\" fill=\"none\"/>\n",
              "    <path d=\"M18.56 5.44l.94 2.06.94-2.06 2.06-.94-2.06-.94-.94-2.06-.94 2.06-2.06.94zm-11 1L8.5 8.5l.94-2.06 2.06-.94-2.06-.94L8.5 2.5l-.94 2.06-2.06.94zm10 10l.94 2.06.94-2.06 2.06-.94-2.06-.94-.94-2.06-.94 2.06-2.06.94z\"/><path d=\"M17.41 7.96l-1.37-1.37c-.4-.4-.92-.59-1.43-.59-.52 0-1.04.2-1.43.59L10.3 9.45l-7.72 7.72c-.78.78-.78 2.05 0 2.83L4 21.41c.39.39.9.59 1.41.59.51 0 1.02-.2 1.41-.59l7.78-7.78 2.81-2.81c.8-.78.8-2.07 0-2.86zM5.41 20L4 18.59l7.72-7.72 1.47 1.35L5.41 20z\"/>\n",
              "  </svg>\n",
              "      </button>\n",
              "      \n",
              "  <style>\n",
              "    .colab-df-container {\n",
              "      display:flex;\n",
              "      flex-wrap:wrap;\n",
              "      gap: 12px;\n",
              "    }\n",
              "\n",
              "    .colab-df-convert {\n",
              "      background-color: #E8F0FE;\n",
              "      border: none;\n",
              "      border-radius: 50%;\n",
              "      cursor: pointer;\n",
              "      display: none;\n",
              "      fill: #1967D2;\n",
              "      height: 32px;\n",
              "      padding: 0 0 0 0;\n",
              "      width: 32px;\n",
              "    }\n",
              "\n",
              "    .colab-df-convert:hover {\n",
              "      background-color: #E2EBFA;\n",
              "      box-shadow: 0px 1px 2px rgba(60, 64, 67, 0.3), 0px 1px 3px 1px rgba(60, 64, 67, 0.15);\n",
              "      fill: #174EA6;\n",
              "    }\n",
              "\n",
              "    [theme=dark] .colab-df-convert {\n",
              "      background-color: #3B4455;\n",
              "      fill: #D2E3FC;\n",
              "    }\n",
              "\n",
              "    [theme=dark] .colab-df-convert:hover {\n",
              "      background-color: #434B5C;\n",
              "      box-shadow: 0px 1px 3px 1px rgba(0, 0, 0, 0.15);\n",
              "      filter: drop-shadow(0px 1px 2px rgba(0, 0, 0, 0.3));\n",
              "      fill: #FFFFFF;\n",
              "    }\n",
              "  </style>\n",
              "\n",
              "      <script>\n",
              "        const buttonEl =\n",
              "          document.querySelector('#df-86a2e6c8-d752-4158-bd04-26480b9a4001 button.colab-df-convert');\n",
              "        buttonEl.style.display =\n",
              "          google.colab.kernel.accessAllowed ? 'block' : 'none';\n",
              "\n",
              "        async function convertToInteractive(key) {\n",
              "          const element = document.querySelector('#df-86a2e6c8-d752-4158-bd04-26480b9a4001');\n",
              "          const dataTable =\n",
              "            await google.colab.kernel.invokeFunction('convertToInteractive',\n",
              "                                                     [key], {});\n",
              "          if (!dataTable) return;\n",
              "\n",
              "          const docLinkHtml = 'Like what you see? Visit the ' +\n",
              "            '<a target=\"_blank\" href=https://colab.research.google.com/notebooks/data_table.ipynb>data table notebook</a>'\n",
              "            + ' to learn more about interactive tables.';\n",
              "          element.innerHTML = '';\n",
              "          dataTable['output_type'] = 'display_data';\n",
              "          await google.colab.output.renderOutput(dataTable, element);\n",
              "          const docLink = document.createElement('div');\n",
              "          docLink.innerHTML = docLinkHtml;\n",
              "          element.appendChild(docLink);\n",
              "        }\n",
              "      </script>\n",
              "    </div>\n",
              "  </div>\n",
              "  "
            ]
          },
          "metadata": {},
          "execution_count": 59
        }
      ]
    },
    {
      "cell_type": "code",
      "source": [
        "users_with_favorable_ratings = (tourism_rating['User_Id'].value_counts()\n",
        "                                .loc[lambda x: x>5]\n",
        "                                .loc[lambda x: x<100]\n",
        "                                .index.values)\n",
        "\n",
        "df = tourism_rating[tourism_rating['User_Id'].isin(users_with_favorable_ratings)]"
      ],
      "metadata": {
        "id": "dyYeOyiVzcsA"
      },
      "execution_count": null,
      "outputs": []
    },
    {
      "cell_type": "markdown",
      "source": [
        "## Data Prep and Modelling"
      ],
      "metadata": {
        "id": "7w6TYVQy-iN-"
      }
    },
    {
      "cell_type": "code",
      "source": [
        "# create dicts of unique tourism and users for embeddings\n",
        "df_tourism = df['Place_Name'].unique()\n",
        "df_tourism = pd.DataFrame(df_tourism, columns = ['Place_Name'])\n",
        "\n",
        "df_ratings = df[['User_Id', 'Place_Name']]\n",
        "df_ratings = df_ratings.dropna()\n",
        "\n",
        "# convert dataframes to tensors\n",
        "tf_tourism_dict = tf.data.Dataset.from_tensor_slices(dict(df_tourism))\n",
        "tf_ratings_dict = tf.data.Dataset.from_tensor_slices(dict(df_ratings))"
      ],
      "metadata": {
        "id": "dk1tAxuJ9guG"
      },
      "execution_count": null,
      "outputs": []
    },
    {
      "cell_type": "code",
      "source": [
        "# map rows to a dictionary\n",
        "ratings = tf_ratings_dict.map(lambda x: {\n",
        "    \"Place_Name\": x[\"Place_Name\"],\n",
        "    \"User_Id\": x[\"User_Id\"]\n",
        "})\n",
        "\n",
        "tourism_list = tf_tourism_dict.map(lambda x: x['Place_Name'])"
      ],
      "metadata": {
        "id": "SBd0oWJ4_xSk"
      },
      "execution_count": null,
      "outputs": []
    },
    {
      "cell_type": "code",
      "source": [
        "# for embedding\n",
        "userid = ratings.map(lambda x: x['User_Id'])\n",
        "unique_users = np.unique(np.concatenate(list(userid.batch(1000))))\n",
        "unique_tourism = np.unique(np.concatenate(list(tourism_list.batch(1000))))"
      ],
      "metadata": {
        "id": "CYq3-_PYB0as"
      },
      "execution_count": null,
      "outputs": []
    },
    {
      "cell_type": "code",
      "source": [
        "# shuffle + test/train split\n",
        "tf.random.set_seed(42)\n",
        "shuffled = ratings.shuffle(len(df), seed=42, reshuffle_each_iteration=False)\n",
        "                          \n",
        "train = shuffled.take(int(len(df)*0.8))\n",
        "test = shuffled.skip(int(len(df)*0.8)).take(int(len(df)*0.2))"
      ],
      "metadata": {
        "id": "eB2Sg2maC-ef"
      },
      "execution_count": null,
      "outputs": []
    },
    {
      "cell_type": "code",
      "source": [
        "# Extend the tfrs class\n",
        "class TourismModel(tfrs.Model):\n",
        "    def __init__(self):\n",
        "        super().__init__()\n",
        "        \n",
        "        embedding_dims = 32\n",
        "        self.user_model =  tf.keras.Sequential([\n",
        "            tf.keras.layers.StringLookup(\n",
        "                vocabulary= unique_users, mask_token=None),\n",
        "            tf.keras.layers.Embedding(len(unique_users)+1, embedding_dims)\n",
        "        ])\n",
        "\n",
        "        self.tourism_model = tf.keras.Sequential([\n",
        "            tf.keras.layers.StringLookup(\n",
        "                vocabulary=unique_tourism, mask_token=None),\n",
        "            tf.keras.layers.Embedding(len(unique_tourism)+1, embedding_dims)\n",
        "        ])\n",
        "\n",
        "        self.task = tfrs.tasks.Retrieval(\n",
        "            metrics=tfrs.metrics.FactorizedTopK(\n",
        "                candidates=tourism_list.batch(128).cache().map(self.tourism_model)\n",
        "            ))\n",
        "        \n",
        "    \n",
        "    def compute_loss(self, features: Dict[Text, tf.Tensor], training=False) -> tf.Tensor:\n",
        "        user_embeddings = self.user_model(features['User_Id'])\n",
        "        tourism_embeddings = self.tourism_model(features['Place_Name'])\n",
        "        return self.task(user_embeddings, tourism_embeddings)"
      ],
      "metadata": {
        "id": "CAIfWOrrET2M"
      },
      "execution_count": null,
      "outputs": []
    },
    {
      "cell_type": "code",
      "source": [
        "# Define the Keras TensorBoard callback.\n",
        "logdir=\"logs/fit/\" + datetime.now().strftime(\"%Y%m%d-%H%M%S\")\n",
        "tensorboard_callback = keras.callbacks.TensorBoard(log_dir=logdir)"
      ],
      "metadata": {
        "id": "ndPZv_FEHS0v"
      },
      "execution_count": null,
      "outputs": []
    },
    {
      "cell_type": "code",
      "source": [
        "# initiate Model\n",
        "model = TourismModel()\n",
        "model.compile(optimizer=tf.keras.optimizers.Adagrad(0.5))"
      ],
      "metadata": {
        "id": "EUxjvAZ1JYCo"
      },
      "execution_count": null,
      "outputs": []
    },
    {
      "cell_type": "code",
      "source": [
        "# Train Model\n",
        "\n",
        "freq = 2\n",
        "epochs = 20\n",
        "\n",
        "history = model.fit(\n",
        "                train.batch(8192),\n",
        "                validation_data= test.batch(512),\n",
        "                validation_freq=freq,\n",
        "                epochs = epochs,\n",
        "                verbose = 0,\n",
        "                callbacks=[tensorboard_callback])"
      ],
      "metadata": {
        "id": "VHN9aKtrJkqk"
      },
      "execution_count": null,
      "outputs": []
    },
    {
      "cell_type": "code",
      "source": [
        "model.evaluate(test.batch(8192), return_dict=True)"
      ],
      "metadata": {
        "colab": {
          "base_uri": "https://localhost:8080/"
        },
        "id": "hgab66wWMCyE",
        "outputId": "bc47cc78-8898-49c9-ec26-f1fd8f446f69"
      },
      "execution_count": null,
      "outputs": [
        {
          "output_type": "stream",
          "name": "stdout",
          "text": [
            "1/1 [==============================] - 0s 225ms/step - factorized_top_k/top_1_categorical_accuracy: 0.0015 - factorized_top_k/top_5_categorical_accuracy: 0.0080 - factorized_top_k/top_10_categorical_accuracy: 0.0140 - factorized_top_k/top_50_categorical_accuracy: 0.1075 - factorized_top_k/top_100_categorical_accuracy: 0.2210 - loss: 24532.9766 - regularization_loss: 0.0000e+00 - total_loss: 24532.9766\n"
          ]
        },
        {
          "output_type": "execute_result",
          "data": {
            "text/plain": [
              "{'factorized_top_k/top_1_categorical_accuracy': 0.001500000013038516,\n",
              " 'factorized_top_k/top_5_categorical_accuracy': 0.00800000037997961,\n",
              " 'factorized_top_k/top_10_categorical_accuracy': 0.014000000432133675,\n",
              " 'factorized_top_k/top_50_categorical_accuracy': 0.10750000178813934,\n",
              " 'factorized_top_k/top_100_categorical_accuracy': 0.22100000083446503,\n",
              " 'loss': 24532.9765625,\n",
              " 'regularization_loss': 0,\n",
              " 'total_loss': 24532.9765625}"
            ]
          },
          "metadata": {},
          "execution_count": 50
        }
      ]
    },
    {
      "cell_type": "code",
      "source": [
        "#notice how back the accuracy is when only prediction the top 10 since no scores are input\n",
        "plt.figure(figsize=(12,6))\n",
        "num_validation_runs = len(history.history[\"val_factorized_top_k/top_100_categorical_accuracy\"])\n",
        "epochs = [(x + 1)* freq for x in range(num_validation_runs)]\n",
        "\n",
        "plt.plot(epochs, history.history[\"val_factorized_top_k/top_100_categorical_accuracy\"], label = \"Validation Top 100\")\n",
        "plt.plot(np.linspace(1, len( history.history[\"factorized_top_k/top_100_categorical_accuracy\"]), \n",
        "                     len( history.history[\"factorized_top_k/top_100_categorical_accuracy\"])),\n",
        "                     history.history[\"factorized_top_k/top_100_categorical_accuracy\"], label = \"Training Top 100\")\n",
        "plt.plot(epochs, history.history[\"val_factorized_top_k/top_10_categorical_accuracy\"], label = \"Validation Top 10\")\n",
        "plt.plot(np.linspace(1, len( history.history[\"factorized_top_k/top_10_categorical_accuracy\"]), \n",
        "                     len( history.history[\"factorized_top_k/top_10_categorical_accuracy\"])),\n",
        "                     history.history[\"factorized_top_k/top_10_categorical_accuracy\"], label = \"Training Top 10\")\n",
        "plt.title(\"Top-100 vs Top-10 Recommendations\")\n",
        "plt.xlabel(\"epoch\")\n",
        "plt.ylabel(\"accuracy\")\n",
        "plt.legend()"
      ],
      "metadata": {
        "colab": {
          "base_uri": "https://localhost:8080/",
          "height": 581
        },
        "id": "zZLpEoKKM2Ss",
        "outputId": "8db60f18-8755-4963-8183-2ab5017ff4d2"
      },
      "execution_count": null,
      "outputs": [
        {
          "output_type": "execute_result",
          "data": {
            "text/plain": [
              "<matplotlib.legend.Legend at 0x7fc5b0f830a0>"
            ]
          },
          "metadata": {},
          "execution_count": 69
        },
        {
          "output_type": "display_data",
          "data": {
            "text/plain": [
              "<Figure size 1200x600 with 1 Axes>"
            ],
            "image/png": "[encoded data removed]"
          },
          "metadata": {}
        }
      ]
    },
    {
      "cell_type": "code",
      "source": [
        "# Save Model\n",
        "\n",
        "# ScaNN can be used in production instead of brute force to speed up prediction times\n",
        "# Since this is a small dataset  I'll just use brute force\n",
        "# \"k\" dictates the number of recommendations to be pulled in production\n",
        "brute_force = tfrs.layers.factorized_top_k.BruteForce(model.user_model, k=100)\n",
        "brute_force.index_from_dataset(\n",
        "    tourism_list.batch(128).map(lambda Place_Name: (Place_Name, model.tourism_model(Place_Name)))\n",
        ")\n",
        "\n",
        "# Need to call it to set the shapes.The string could be anything\n",
        "_ = brute_force(np.array([\"1\"]))\n",
        "\n",
        "#tf.saved_model.save(\n",
        "#  brute_force,\n",
        "#  'models/tourism_retrieval_model')"
      ],
      "metadata": {
        "id": "AmfyXdU-Nkpk"
      },
      "execution_count": null,
      "outputs": []
    },
    {
      "cell_type": "code",
      "source": [
        "# Get Result\n",
        "_, tourism = brute_force(tf.constant([\"1\"]))\n",
        "print(f\"Top 10 recommendations for user x : {tourism[0][:10]}\")"
      ],
      "metadata": {
        "colab": {
          "base_uri": "https://localhost:8080/"
        },
        "id": "HpoU2yEchosO",
        "outputId": "9af70ef7-4949-418c-edb7-2bd9062573ee"
      },
      "execution_count": null,
      "outputs": [
        {
          "output_type": "stream",
          "name": "stdout",
          "text": [
            "Top 10 recommendations for user x : [b'Gua Pawon' b'Curug Tilu Leuwi Opat' b'Masjid Pusdai' b'Curug Anom'\n",
            " b'Pantai Ngrawe (Mesra)' b'Taman Hutan Raya Ir. H. Juanda'\n",
            " b'Museum Taman Prasasti' b'Margasatwa Muara Angke'\n",
            " b'Museum Konferensi Asia Afrika' b'Kampoeng Rawa']\n"
          ]
        }
      ]
    },
    {
      "cell_type": "markdown",
      "source": [
        "## Ranking"
      ],
      "metadata": {
        "id": "ylDaUo46tdw9"
      }
    },
    {
      "cell_type": "code",
      "source": [
        "# fill any NaNs with blanks (tensorflow hates nans)\n",
        "df.fillna(value='', inplace=True)"
      ],
      "metadata": {
        "id": "Hyiw7iOziqPJ"
      },
      "execution_count": null,
      "outputs": []
    },
    {
      "cell_type": "code",
      "source": [
        "# convert dataframes to tensors- \n",
        "tf_dict_df = tf.data.Dataset.from_tensor_slices(dict(tourism_rating))\n",
        "\n",
        "# map rows to a dictionary\n",
        "tourism_ratings = tf_dict_df.map(lambda x: {\n",
        "    \"User_Id\": x[\"User_Id\"],\n",
        "    \"Place_Name\": x[\"Place_Name\"],\n",
        "    \"Place_Ratings\": x[\"Place_Ratings\"],\n",
        "})"
      ],
      "metadata": {
        "id": "vAo92Yjxs1AW"
      },
      "execution_count": null,
      "outputs": []
    },
    {
      "cell_type": "code",
      "source": [
        "feature_names = [\"User_Id\", \"Place_Name\", \"Place_Ratings\"]\n",
        "\n",
        "vocabularies = {}\n",
        "\n",
        "# come up with vocab lists for string variables (doesn't really handle review text now)\n",
        "# floats will automatically get converted to integers\n",
        "for feature_name in feature_names:\n",
        "    vocab = tourism_ratings.batch(1000000).map(lambda x: x[feature_name])\n",
        "    vocabularies[feature_name] = np.unique(np.concatenate(list(vocab)))"
      ],
      "metadata": {
        "id": "4-fjyT4eta5U"
      },
      "execution_count": null,
      "outputs": []
    },
    {
      "cell_type": "code",
      "source": [
        "# test/train split\n",
        "\n",
        "tf.random.set_seed(2001)\n",
        "dataset_train_split = int(len(tourism_ratings)*0.8)\n",
        "dataset_test_split = int(len(tourism_ratings)*0.2)\n",
        "\n",
        "shuffled = tourism_ratings.shuffle(dataset_train_split, seed=2001, reshuffle_each_iteration=False)\n",
        "\n",
        "train = shuffled.take(dataset_train_split)\n",
        "test = shuffled.skip(dataset_train_split).take(dataset_test_split)\n",
        "\n",
        "cached_train = train.shuffle(100000).batch(8192).cache()\n",
        "cached_test = test.batch(4096).cache()"
      ],
      "metadata": {
        "id": "KmDawrfftpLX"
      },
      "execution_count": null,
      "outputs": []
    },
    {
      "cell_type": "markdown",
      "source": [
        "### Modelling"
      ],
      "metadata": {
        "id": "jwAmoWtOuMj2"
      }
    },
    {
      "cell_type": "code",
      "source": [
        "class DCN(tfrs.Model):\n",
        "    def __init__(self, use_cross_layer, deep_layer_sizes, projection_dim=None):\n",
        "        super().__init__()\n",
        "        \n",
        "        self.embedding_dimension = 32\n",
        "        \n",
        "        str_features = [\"User_Id\", \"Place_Name\", \"Place_Ratings\"]\n",
        "        \n",
        "        self._all_features = str_features\n",
        "        self._embeddings = {}\n",
        "        \n",
        "        # compute embeddings for string features\n",
        "        for feature_name in str_features:\n",
        "            vocabulary = vocabularies[feature_name]\n",
        "            self._embeddings[feature_name] = tf.keras.Sequential(\n",
        "                [tf.keras.layers.StringLookup(\n",
        "                    vocabulary=vocabulary, mask_token=None),\n",
        "                 tf.keras.layers.Embedding(len(vocabulary)+1, \n",
        "                                                self.embedding_dimension)\n",
        "                ])\n",
        "        \n",
        "        if use_cross_layer:\n",
        "            self._cross_layer = tfrs.layers.dcn.Cross(\n",
        "                projection_dim=projection_dim,\n",
        "                kernel_initializer=\"glorot_uniform\")\n",
        "        else:\n",
        "            self._cross_layer = None\n",
        "            \n",
        "        self._deep_layers = [tf.keras.layers.Dense(layer_size, activation=\"relu\")\n",
        "            for layer_size in deep_layer_sizes]\n",
        "        \n",
        "        self._logit_layer = tf.keras.layers.Dense(1)\n",
        "        \n",
        "        \n",
        "        self.task = tfrs.tasks.Ranking(\n",
        "                        loss=tf.keras.losses.MeanSquaredError(),\n",
        "                        metrics=[tf.keras.metrics.RootMeanSquaredError(\"RMSE\")]\n",
        "        )\n",
        "        \n",
        "    def call(self, features):\n",
        "        #concat embeddings\n",
        "        embeddings = []\n",
        "        for feature_name in self._all_features:\n",
        "            embedding_fn = self._embeddings[feature_name]\n",
        "            embeddings.append(embedding_fn(features[feature_name]))\n",
        "            \n",
        "        x = tf.concat(embeddings, axis=1)\n",
        "        \n",
        "        # build cross network\n",
        "        if self._cross_layer is not None:\n",
        "            x = self._cross_layer(x)\n",
        "            \n",
        "        # build deep network\n",
        "        for deep_layer in self._deep_layers:\n",
        "            x = deep_layer(x)\n",
        "            x = tf.keras.layers.Dropout(0.2)(x)\n",
        "\n",
        "        return self._logit_layer(x)\n",
        "    \n",
        "    \n",
        "    def compute_loss(self, features, training=False):\n",
        "        labels = features.pop(\"score\")\n",
        "        scores = self(features)\n",
        "        return self.task(\n",
        "                    labels=labels,\n",
        "                    predictions=scores,\n",
        "        )"
      ],
      "metadata": {
        "id": "kvTX-oj7uHWP"
      },
      "execution_count": null,
      "outputs": []
    }
  ]
}